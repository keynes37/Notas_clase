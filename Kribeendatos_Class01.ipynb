{
  "nbformat": 4,
  "nbformat_minor": 0,
  "metadata": {
    "colab": {
      "name": "Kribeendatos_Class01.ipynb",
      "provenance": [],
      "mount_file_id": "177MsKmxq1uavV5_CwizFFgPhnASSNarK",
      "authorship_tag": "ABX9TyN6ECu4BY2tHdwcB71iNOU8",
      "include_colab_link": true
    },
    "kernelspec": {
      "name": "python3",
      "display_name": "Python 3"
    },
    "language_info": {
      "name": "python"
    }
  },
  "cells": [
    {
      "cell_type": "markdown",
      "metadata": {
        "id": "view-in-github",
        "colab_type": "text"
      },
      "source": [
        "<a href=\"https://colab.research.google.com/github/keynes37/Notas_clase/blob/main/Kribeendatos_Class01.ipynb\" target=\"_parent\"><img src=\"https://colab.research.google.com/assets/colab-badge.svg\" alt=\"Open In Colab\"/></a>"
      ]
    },
    {
      "cell_type": "markdown",
      "source": [
        "\n",
        "\n",
        "# Viernes de código\n",
        "## Universidad del Norte \n",
        "## K-ribe en Datos (Departamento de Economía)\n",
        "### Carlos Yanes\n",
        "\n",
        "\n"
      ],
      "metadata": {
        "id": "8N4I5ofMdwV5"
      }
    },
    {
      "cell_type": "markdown",
      "source": [
        "**Preliminar** Así como la semana pasada vimos algunos paquetes de importación de datos y unas visualizaciones, miraremos ahora como hacerlo en **Python** \n",
        "\n",
        "```Python\n",
        "welcome = \"Bienvenido(a)s a viernes de código\"\n",
        "print(welcome)\n",
        "```\n"
      ],
      "metadata": {
        "id": "3W3yCneRiWzV"
      }
    },
    {
      "cell_type": "markdown",
      "source": [
        "**Python** es un lenguaje de programación de alto espectro. Posee muchas carácteristicas, desde una simple calculadora, hasta un potente software que permite hasta crear juegos.\n",
        "\n",
        "Tiene distintos IDE (integrated development environment) o *entorno de desarrollo integrado* como [Anaconda](https://www.anaconda.com/), quien posee todos los instaladores de éstos y que queda a libre disposición del usuario escoger el que mejor le parece.\n",
        "\n",
        "Para economistas y personas que van integrando el cúmulo de cientificos de datos, uno de los IDE mas usado es [Jupyter](https://jupyter.org/)"
      ],
      "metadata": {
        "id": "6jWVg8wG9A7A"
      }
    },
    {
      "cell_type": "code",
      "source": [
        "from IPython.display import YouTubeVideo\n",
        "\n",
        "YouTubeVideo('J0Aq44Pze-w', width=800, height=300)"
      ],
      "metadata": {
        "colab": {
          "base_uri": "https://localhost:8080/",
          "height": 321
        },
        "id": "0-gJ56tcQMrC",
        "outputId": "ec4067db-1a8e-4d87-a4e8-5025a6d29a51"
      },
      "execution_count": 22,
      "outputs": [
        {
          "output_type": "execute_result",
          "data": {
            "text/html": [
              "\n",
              "        <iframe\n",
              "            width=\"800\"\n",
              "            height=\"300\"\n",
              "            src=\"https://www.youtube.com/embed/J0Aq44Pze-w\"\n",
              "            frameborder=\"0\"\n",
              "            allowfullscreen\n",
              "        ></iframe>\n",
              "        "
            ],
            "text/plain": [
              "<IPython.lib.display.YouTubeVideo at 0x7fdc7ce19f50>"
            ],
            "image/jpeg": "[encoded data removed]"
          },
          "metadata": {},
          "execution_count": 22
        }
      ]
    },
    {
      "cell_type": "code",
      "source": [
        "# Una simple suma\n",
        "345+ 12"
      ],
      "metadata": {
        "colab": {
          "base_uri": "https://localhost:8080/"
        },
        "id": "1sOxl-YF8_5y",
        "outputId": "e0ec2b15-a288-4f99-8cfd-902e45cd4854"
      },
      "execution_count": 1,
      "outputs": [
        {
          "output_type": "execute_result",
          "data": {
            "text/plain": [
              "357"
            ]
          },
          "metadata": {},
          "execution_count": 1
        }
      ]
    },
    {
      "cell_type": "markdown",
      "source": [
        "Con un objeto como variable"
      ],
      "metadata": {
        "id": "HnwbafnaFcYQ"
      }
    },
    {
      "cell_type": "code",
      "source": [
        "variable1=10"
      ],
      "metadata": {
        "id": "pAaCGkHuFhW5"
      },
      "execution_count": 2,
      "outputs": []
    },
    {
      "cell_type": "markdown",
      "source": [
        "Miraremos que si adjuntamos o recurrimos a uno de los comandos mas usuales como lo es `print` tendremos varias cosas"
      ],
      "metadata": {
        "id": "6osMvG1hFnUk"
      }
    },
    {
      "cell_type": "code",
      "source": [
        "print(variable1+15)"
      ],
      "metadata": {
        "colab": {
          "base_uri": "https://localhost:8080/"
        },
        "id": "NsKnu0fwFw4g",
        "outputId": "923c05a2-a3f1-4971-bcca-3319132441cb"
      },
      "execution_count": 3,
      "outputs": [
        {
          "output_type": "stream",
          "name": "stdout",
          "text": [
            "25\n"
          ]
        }
      ]
    },
    {
      "cell_type": "markdown",
      "source": [
        "## Importante\n",
        "Recuerda el `print` pues observe que ocurre si no lo usamos:"
      ],
      "metadata": {
        "id": "BnVRnfRRL7RS"
      }
    },
    {
      "cell_type": "code",
      "source": [
        "# Aritmética\n",
        "2670000+ 512000 + 219000\n",
        "# Multiplicación\n",
        "340*52\n",
        "# División \n",
        "450/30\n",
        "# Potencia\n",
        "4**3"
      ],
      "metadata": {
        "colab": {
          "base_uri": "https://localhost:8080/"
        },
        "id": "CtLys4CfMW_q",
        "outputId": "5d662795-975d-409d-a8d6-a8af5cd57e10"
      },
      "execution_count": 4,
      "outputs": [
        {
          "output_type": "execute_result",
          "data": {
            "text/plain": [
              "64"
            ]
          },
          "metadata": {},
          "execution_count": 4
        }
      ]
    },
    {
      "cell_type": "markdown",
      "source": [
        "Si observa, **python** solo muestra la última linea del código. No muestra todo lo demás. Para hacerlo, requerimos entonces de hacer uso del `print` "
      ],
      "metadata": {
        "id": "YtWmdMlCMehl"
      }
    },
    {
      "cell_type": "code",
      "source": [
        "# Aritmética\n",
        "a=2670000+ 512000 + 219000\n",
        "print(a)\n",
        "# Multiplicación\n",
        "b=340*52\n",
        "print(b)\n",
        "# División \n",
        "c=450/30\n",
        "print(c)\n",
        "# Potencia\n",
        "d=4**3\n",
        "print(d)"
      ],
      "metadata": {
        "colab": {
          "base_uri": "https://localhost:8080/"
        },
        "id": "oCcRiSxXMeA6",
        "outputId": "8ea5c347-d55d-4b7d-8384-526694f75f34"
      },
      "execution_count": 5,
      "outputs": [
        {
          "output_type": "stream",
          "name": "stdout",
          "text": [
            "3401000\n",
            "17680\n",
            "15.0\n",
            "64\n"
          ]
        }
      ]
    },
    {
      "cell_type": "markdown",
      "source": [
        "**Python** no solo muestra un resultado como tal, tambien es personalizable"
      ],
      "metadata": {
        "id": "OvpRGecFON_r"
      }
    },
    {
      "cell_type": "code",
      "source": [
        "print('Este resultado es', d)"
      ],
      "metadata": {
        "colab": {
          "base_uri": "https://localhost:8080/"
        },
        "id": "Qk9g6Y9LOaUz",
        "outputId": "d10538f8-2ea0-4649-dcbf-5c50fe504100"
      },
      "execution_count": 6,
      "outputs": [
        {
          "output_type": "stream",
          "name": "stdout",
          "text": [
            "Este resultado es 64\n"
          ]
        }
      ]
    },
    {
      "cell_type": "markdown",
      "source": [
        "Posiblemente en el transcurrir del tiempo, puede que no haya algún paquete instalado en el entorno del **Collab** y tengamos que recurrir a `!pip install` que estando en **R** es lo mismo que el `install.packages()`. Simplemente le indica que va a instalar y el se establecerá de esa manera (por tiempo límitado) en su entorno de **Collab**. Por ejemplo si quisieramos instalar el paquete *folium* para mapas es."
      ],
      "metadata": {
        "id": "CEr2LMocOy9v"
      }
    },
    {
      "cell_type": "code",
      "execution_count": 23,
      "metadata": {
        "id": "GQ18Kd5F3uKe",
        "colab": {
          "base_uri": "https://localhost:8080/"
        },
        "outputId": "e3133eaa-abda-40c7-88c4-b2a2b72f4838"
      },
      "outputs": [
        {
          "output_type": "stream",
          "name": "stdout",
          "text": [
            "Requirement already satisfied: folium in /usr/local/lib/python3.7/dist-packages (0.8.3)\n",
            "Requirement already satisfied: numpy in /usr/local/lib/python3.7/dist-packages (from folium) (1.21.5)\n",
            "Requirement already satisfied: requests in /usr/local/lib/python3.7/dist-packages (from folium) (2.23.0)\n",
            "Requirement already satisfied: six in /usr/local/lib/python3.7/dist-packages (from folium) (1.15.0)\n",
            "Requirement already satisfied: jinja2 in /usr/local/lib/python3.7/dist-packages (from folium) (2.11.3)\n",
            "Requirement already satisfied: branca>=0.3.0 in /usr/local/lib/python3.7/dist-packages (from folium) (0.4.2)\n",
            "Requirement already satisfied: MarkupSafe>=0.23 in /usr/local/lib/python3.7/dist-packages (from jinja2->folium) (2.0.1)\n",
            "Requirement already satisfied: certifi>=2017.4.17 in /usr/local/lib/python3.7/dist-packages (from requests->folium) (2021.10.8)\n",
            "Requirement already satisfied: urllib3!=1.25.0,!=1.25.1,<1.26,>=1.21.1 in /usr/local/lib/python3.7/dist-packages (from requests->folium) (1.24.3)\n",
            "Requirement already satisfied: idna<3,>=2.5 in /usr/local/lib/python3.7/dist-packages (from requests->folium) (2.10)\n",
            "Requirement already satisfied: chardet<4,>=3.0.2 in /usr/local/lib/python3.7/dist-packages (from requests->folium) (3.0.4)\n"
          ]
        }
      ],
      "source": [
        "!pip install folium"
      ]
    },
    {
      "cell_type": "markdown",
      "source": [
        "Luego de eso, podemos interactuar con `folium` y podemos entonces interactuar con mapas"
      ],
      "metadata": {
        "id": "unJW5OoyQkw9"
      }
    },
    {
      "cell_type": "code",
      "source": [
        "import folium\n",
        "\n",
        "bq_coords = [10.9878, -74.78] # lat, long\n",
        "folium_map = folium.Map(location=bq_coords)\n",
        "folium_map"
      ],
      "metadata": {
        "id": "85G92jlBQyAe"
      },
      "execution_count": null,
      "outputs": []
    },
    {
      "cell_type": "markdown",
      "source": [
        "Las utilidades de `print` son inimaginables, incluso puede ser usado en loops. Mire lo siguiente: sea $x_i \\; donde\\; i \\in{1,2,3,\\dots,n}$ replique el estamento de \"*Me gusta mas Python que R*\". "
      ],
      "metadata": {
        "id": "MgYehEmxPxUS"
      }
    },
    {
      "cell_type": "code",
      "source": [
        "for i in range(10):\n",
        "    print('Me gusta mas Python que R')"
      ],
      "metadata": {
        "colab": {
          "base_uri": "https://localhost:8080/"
        },
        "id": "7qw58ZPIRnk9",
        "outputId": "64bd87f6-6443-484e-e2ae-22dbfa7a8713"
      },
      "execution_count": 7,
      "outputs": [
        {
          "output_type": "stream",
          "name": "stdout",
          "text": [
            "Me gusta mas Python que R\n",
            "Me gusta mas Python que R\n",
            "Me gusta mas Python que R\n",
            "Me gusta mas Python que R\n",
            "Me gusta mas Python que R\n",
            "Me gusta mas Python que R\n",
            "Me gusta mas Python que R\n",
            "Me gusta mas Python que R\n",
            "Me gusta mas Python que R\n",
            "Me gusta mas Python que R\n"
          ]
        }
      ]
    },
    {
      "cell_type": "markdown",
      "source": [
        "### Ejercicio 1\n",
        "\n",
        "A. Cree un `loop` con n=20 pero con la frase: \"Me siento genial con K-ribe en Datos\".\n",
        "\n",
        "B. Establezca una pequeña formula que le permita obtener el total de las horas que hay en una **semana**."
      ],
      "metadata": {
        "id": "Y22Xy9ZiRwl1"
      }
    },
    {
      "cell_type": "markdown",
      "source": [
        "Hay utilidades en **Python** que van en la construcción de solicitudes de autorellenado, _p.e_: haremos uso de `input` y del programa _datetime_ que le permitirá ver el día en el que nació de acuerdo a una información que recibe el algoritmo."
      ],
      "metadata": {
        "id": "dwin9xvzS_EO"
      }
    },
    {
      "cell_type": "code",
      "source": [
        "# Datetime\n",
        "from datetime import datetime\n",
        "respuesta = input(\"Tu fecha de cumpleaños (DD-MM-YYYY): \")\n",
        "birthday = datetime.strptime(respuesta, \"%d-%m-%Y\")\n",
        "print(\"Tu nacimiento fue un \" + birthday.strftime(\"%A\") + \"!\")"
      ],
      "metadata": {
        "colab": {
          "base_uri": "https://localhost:8080/"
        },
        "id": "ZP9eU7aTTESA",
        "outputId": "cf9884e2-e3bd-4f67-87cf-252e55f47a8f"
      },
      "execution_count": 8,
      "outputs": [
        {
          "output_type": "stream",
          "name": "stdout",
          "text": [
            "Tu fecha de cumpleaños (DD-MM-YYYY): 17-09-1982\n",
            "Tu nacimiento fue un Friday!\n"
          ]
        }
      ]
    },
    {
      "cell_type": "markdown",
      "source": [
        "# Códigos en Python\n",
        "En esta parte empezaremos a describir la parte de lo que es una función en **Python**, para eso debemos tener presente que:\n",
        "\n",
        "<img src='https://drive.google.com/uc?export=view&id=14NlWcMC7uefXnbpfVTO9HJpu2s3s97nO'>\n",
        "\n"
      ],
      "metadata": {
        "id": "Hn308_AxXHRd"
      }
    },
    {
      "cell_type": "markdown",
      "source": [
        "Teniendo eso presente. Podemos entonces armar nuestras primeras funciones. Tomemos por ejemplo que queremos armar la suma de dos elementos $(X,Y)$. Y que esas variables serán los valores que querramos definir. "
      ],
      "metadata": {
        "id": "fzy7iGLne3XL"
      }
    },
    {
      "cell_type": "code",
      "source": [
        "def suma(x,y):\n",
        "    \"Va la suma de elementos\"\n",
        "    resultado=x+y\n",
        "    return resultado"
      ],
      "metadata": {
        "id": "wYrdV9HKfbTa"
      },
      "execution_count": 9,
      "outputs": []
    },
    {
      "cell_type": "markdown",
      "source": [
        "Luego de ella podemos entonces operar esa función."
      ],
      "metadata": {
        "id": "-GSk3p1NfgBN"
      }
    },
    {
      "cell_type": "code",
      "source": [
        "suma(15,30)"
      ],
      "metadata": {
        "colab": {
          "base_uri": "https://localhost:8080/"
        },
        "id": "OjtiQwVIfnQi",
        "outputId": "c252c239-1918-4750-8507-bf8fad48948f"
      },
      "execution_count": 10,
      "outputs": [
        {
          "output_type": "execute_result",
          "data": {
            "text/plain": [
              "45"
            ]
          },
          "metadata": {},
          "execution_count": 10
        }
      ]
    },
    {
      "cell_type": "markdown",
      "source": [
        "### Ejercicio 2\n",
        "\n",
        "A. Establezca una función que primero múltiplique y luego sume tres elementos."
      ],
      "metadata": {
        "id": "TEjnzrLCfsxW"
      }
    },
    {
      "cell_type": "markdown",
      "source": [
        "Recuerde que cuando se hace uso de las matemáticas _Financieras_ le piden calcular por ejemplo tasas de interés capitalizables a cierto periodo de tiempo. En esta parte vamos a ver como una tasa de interés nominal anual pasa a ser una tasa efectiva anual.\n",
        "\n",
        "La formula es **Tasa Efectiva**= $(1+\\frac{T.P}{periodo})^{periodo} - 1$"
      ],
      "metadata": {
        "id": "xJsi1HxkgXja"
      }
    },
    {
      "cell_type": "code",
      "source": [
        "def tasa_efectiva(te,periodo):\n",
        "    resultado=(1+te/periodo)**periodo -1\n",
        "    return resultado"
      ],
      "metadata": {
        "id": "eAjjfv6Cfr3M"
      },
      "execution_count": 11,
      "outputs": []
    },
    {
      "cell_type": "markdown",
      "source": [
        "Pensemos un momento en que un **Banco Comercial**, usted trabajando en la zona de ejecutivos de cuenta le dice un cliente que quiere saber cual es la tasa efectiva que le cobran en un año cuando esta es del 18%"
      ],
      "metadata": {
        "id": "8HgbtR8Ig-Y8"
      }
    },
    {
      "cell_type": "code",
      "source": [
        "tasa_efectiva(0.18,12)"
      ],
      "metadata": {
        "colab": {
          "base_uri": "https://localhost:8080/"
        },
        "id": "7LmbzHuSicI7",
        "outputId": "1209f928-0e10-42a6-acab-7201b75c8470"
      },
      "execution_count": 12,
      "outputs": [
        {
          "output_type": "execute_result",
          "data": {
            "text/plain": [
              "0.19561817146153393"
            ]
          },
          "metadata": {},
          "execution_count": 12
        }
      ]
    },
    {
      "cell_type": "markdown",
      "source": [
        "De igual manera, se puede implementar formulas sencillas sin usar el mecanismo de funciones. Mire bien la parte para el calculo del **retorno** de una acción:\n",
        "$$\n",
        "Retorno = \\frac{Cierre_t}{Cierre_{t-1}} - 1\n",
        "$$"
      ],
      "metadata": {
        "id": "9isxUOuAkXNs"
      }
    },
    {
      "cell_type": "code",
      "source": [
        "cierre_23_febrero = 61.750\n",
        "cierre_24_febrero = 65.968\n",
        "retorno = ((cierre_24_febrero / cierre_23_febrero) - 1)*100\n",
        "print('Señor cliente su tasa efectiva es %', retorno)"
      ],
      "metadata": {
        "colab": {
          "base_uri": "https://localhost:8080/"
        },
        "id": "zvLaFlY1keiY",
        "outputId": "f969d6d4-b232-4eec-fb14-67f06bd82aad"
      },
      "execution_count": 15,
      "outputs": [
        {
          "output_type": "stream",
          "name": "stdout",
          "text": [
            "Señor cliente su tasa efectiva es % 6.83076923076924\n"
          ]
        }
      ]
    },
    {
      "cell_type": "markdown",
      "source": [
        "### Ejercicio 3\n",
        "\n",
        "A. Plantee una función que resuelva lo anterior, automaticamente."
      ],
      "metadata": {
        "id": "TmpsLv6OlCeU"
      }
    },
    {
      "cell_type": "markdown",
      "source": [
        "# Que mas podemos hacer en Python?\n",
        "\n",
        "#### Problema de clasificación\n",
        "\n",
        "Asuma que tiene información calorica de tal manera que:\n",
        "\n",
        "| Categoría | Etiqueta        | Criterios                                       |\n",
        "|----------\t|---------------  |----------------------------------------------\t|\n",
        "| Calorías \t| Sin calorías \t  | menos de 5 calorías por porción             \t|\n",
        "| Calorías \t| Baja calorias   | menos de 40 calorías por porción             \t|\n",
        "| Grasa     | Sin grasas      | Menos de 0.5 gramos de grasa total por porción \t|\n",
        "| Grasa     | Baja grasas     | 3 gramos or menos de grasa total por porción    |\n",
        "| Azucar    | Libre de azucar | Menos de 0.5 gramos de azucar por porción     \t|\n",
        "\n",
        "Fuente: [American Diabetes Association](https://www.diabetes.org/healthy-living/recipes-nutrition/reading-food-labels) y el [Institute of Medicine](https://www.ncbi.nlm.nih.gov/books/NBK209851/).\n",
        "\n"
      ],
      "metadata": {
        "id": "Cezo4nPk7srO"
      }
    },
    {
      "cell_type": "code",
      "source": [
        "def asignacion_calorias(alimento):\n",
        "    \"\"\"\n",
        "    Se asigna una etiqueta\n",
        "    \n",
        "    Argumentos:\n",
        "    Alimento: un diccionario de python\n",
        "    \n",
        "    Resultados:\n",
        "    Sin resultado alguno númerico. Esta función solo etiqueta \"\"\"\n",
        "    if alimento[\"calorias\"] < 5:\n",
        "        sello_etiqueta = \"Libre de calorías\"\n",
        "    elif alimento[\"calorias\"] < 40:\n",
        "        sello_etiqueta = \"Baja calorías\"\n",
        "    else:\n",
        "        sello_etiqueta = \"Alto en Calorías\"\n",
        "    print(sello_etiqueta)"
      ],
      "metadata": {
        "id": "EnHrxozP-OmO"
      },
      "execution_count": 16,
      "outputs": []
    },
    {
      "cell_type": "markdown",
      "source": [
        "Su ponga que nos han dicho que califiquemos un **alimento** y tiene caráscteristicas como: una porcion de sandia de 800 gramos contiene 46.5 calorias, 100 miligramos de grasa, sodio de 8.25 mlg, azucar de 15.29 y fibra de 0.7 gr. Clasifiquemos.\n",
        "\n",
        "Lo primero entonces es armar los datos, deben ir en `{}` y ademas las columnas en `\" \"` que indica caracteres, los números van normales y comentarios con el operador `#`."
      ],
      "metadata": {
        "id": "g0f1js5w-gqU"
      }
    },
    {
      "cell_type": "code",
      "source": [
        "sandia = {\n",
        "    \"porcion\":800, # En gramos\n",
        "    \"calorias\":46.5, # En kilocalorias\n",
        "    \"grasa\":100, # En miligramos\n",
        "    \"sodio\":8.25, # En miligramos\n",
        "    \"azucar\":15.29, # En gramos\n",
        "    \"fibra\":0.7 # En gramos\n",
        "}"
      ],
      "metadata": {
        "id": "xxSMUM6l-sM5"
      },
      "execution_count": 17,
      "outputs": []
    },
    {
      "cell_type": "code",
      "source": [
        "asignacion_calorias(sandia)"
      ],
      "metadata": {
        "colab": {
          "base_uri": "https://localhost:8080/"
        },
        "id": "QcyjFbBy_pJ_",
        "outputId": "2576161d-f3d8-4838-c07f-b4ed65b1c174"
      },
      "execution_count": 18,
      "outputs": [
        {
          "output_type": "stream",
          "name": "stdout",
          "text": [
            "Alto en Calorías\n"
          ]
        }
      ]
    },
    {
      "cell_type": "markdown",
      "source": [
        "## Bases de datos\n",
        "\n",
        "Los datos que uno usa en **Python** pueden ser manejados con los paquetes (librerias) denominadas <span style=\"color:red\">**Numpy**</span> o si no el famoso <span style=\"color:red\">**Pandas**</span>. el primero es para manejo de datos de forma de _matrices_ y el siguiente sirve para importar, combinar, filtrar o concadenar datos y/o la parte de fragmentos de datos. Todos en referencia al **Data Wrangling** pueden encontrar material de apoyo en [Ayuda Numpy](http://datacamp-community-prod.s3.amazonaws.com/ba1fe95a-8b70-4d2f-95b0-bc954e9071b0) y para [Ayuda Pandas](https://pandas.pydata.org/Pandas_Cheat_Sheet.pdf)"
      ],
      "metadata": {
        "id": "eNaLe_yj_1wG"
      }
    },
    {
      "cell_type": "code",
      "source": [
        "import pandas as pd\n",
        "# Una lista\n",
        "datos = [['Carlos Yanes', 100], ['Jose Ramos', 89], ['Andres Vargas', 75]]\n",
        " \n",
        "# Creamos la base de datos\n",
        "df = pd.DataFrame(datos, columns = ['Nombres', 'Puntos'])\n",
        " \n",
        "# Un formato para imprimir los datos\n",
        "df"
      ],
      "metadata": {
        "colab": {
          "base_uri": "https://localhost:8080/",
          "height": 143
        },
        "id": "J9z8h1JEAXMg",
        "outputId": "787cc2af-b2d1-47b5-98c3-69205d0fc33f"
      },
      "execution_count": 19,
      "outputs": [
        {
          "output_type": "execute_result",
          "data": {
            "text/html": [
              "\n",
              "  <div id=\"df-37cbcd21-2762-4333-8b85-7bb513d092d0\">\n",
              "    <div class=\"colab-df-container\">\n",
              "      <div>\n",
              "<style scoped>\n",
              "    .dataframe tbody tr th:only-of-type {\n",
              "        vertical-align: middle;\n",
              "    }\n",
              "\n",
              "    .dataframe tbody tr th {\n",
              "        vertical-align: top;\n",
              "    }\n",
              "\n",
              "    .dataframe thead th {\n",
              "        text-align: right;\n",
              "    }\n",
              "</style>\n",
              "<table border=\"1\" class=\"dataframe\">\n",
              "  <thead>\n",
              "    <tr style=\"text-align: right;\">\n",
              "      <th></th>\n",
              "      <th>Nombres</th>\n",
              "      <th>Puntos</th>\n",
              "    </tr>\n",
              "  </thead>\n",
              "  <tbody>\n",
              "    <tr>\n",
              "      <th>0</th>\n",
              "      <td>Carlos Yanes</td>\n",
              "      <td>100</td>\n",
              "    </tr>\n",
              "    <tr>\n",
              "      <th>1</th>\n",
              "      <td>Jose Ramos</td>\n",
              "      <td>89</td>\n",
              "    </tr>\n",
              "    <tr>\n",
              "      <th>2</th>\n",
              "      <td>Andres Vargas</td>\n",
              "      <td>75</td>\n",
              "    </tr>\n",
              "  </tbody>\n",
              "</table>\n",
              "</div>\n",
              "      <button class=\"colab-df-convert\" onclick=\"convertToInteractive('df-37cbcd21-2762-4333-8b85-7bb513d092d0')\"\n",
              "              title=\"Convert this dataframe to an interactive table.\"\n",
              "              style=\"display:none;\">\n",
              "        \n",
              "  <svg xmlns=\"http://www.w3.org/2000/svg\" height=\"24px\"viewBox=\"0 0 24 24\"\n",
              "       width=\"24px\">\n",
              "    <path d=\"M0 0h24v24H0V0z\" fill=\"none\"/>\n",
              "    <path d=\"M18.56 5.44l.94 2.06.94-2.06 2.06-.94-2.06-.94-.94-2.06-.94 2.06-2.06.94zm-11 1L8.5 8.5l.94-2.06 2.06-.94-2.06-.94L8.5 2.5l-.94 2.06-2.06.94zm10 10l.94 2.06.94-2.06 2.06-.94-2.06-.94-.94-2.06-.94 2.06-2.06.94z\"/><path d=\"M17.41 7.96l-1.37-1.37c-.4-.4-.92-.59-1.43-.59-.52 0-1.04.2-1.43.59L10.3 9.45l-7.72 7.72c-.78.78-.78 2.05 0 2.83L4 21.41c.39.39.9.59 1.41.59.51 0 1.02-.2 1.41-.59l7.78-7.78 2.81-2.81c.8-.78.8-2.07 0-2.86zM5.41 20L4 18.59l7.72-7.72 1.47 1.35L5.41 20z\"/>\n",
              "  </svg>\n",
              "      </button>\n",
              "      \n",
              "  <style>\n",
              "    .colab-df-container {\n",
              "      display:flex;\n",
              "      flex-wrap:wrap;\n",
              "      gap: 12px;\n",
              "    }\n",
              "\n",
              "    .colab-df-convert {\n",
              "      background-color: #E8F0FE;\n",
              "      border: none;\n",
              "      border-radius: 50%;\n",
              "      cursor: pointer;\n",
              "      display: none;\n",
              "      fill: #1967D2;\n",
              "      height: 32px;\n",
              "      padding: 0 0 0 0;\n",
              "      width: 32px;\n",
              "    }\n",
              "\n",
              "    .colab-df-convert:hover {\n",
              "      background-color: #E2EBFA;\n",
              "      box-shadow: 0px 1px 2px rgba(60, 64, 67, 0.3), 0px 1px 3px 1px rgba(60, 64, 67, 0.15);\n",
              "      fill: #174EA6;\n",
              "    }\n",
              "\n",
              "    [theme=dark] .colab-df-convert {\n",
              "      background-color: #3B4455;\n",
              "      fill: #D2E3FC;\n",
              "    }\n",
              "\n",
              "    [theme=dark] .colab-df-convert:hover {\n",
              "      background-color: #434B5C;\n",
              "      box-shadow: 0px 1px 3px 1px rgba(0, 0, 0, 0.15);\n",
              "      filter: drop-shadow(0px 1px 2px rgba(0, 0, 0, 0.3));\n",
              "      fill: #FFFFFF;\n",
              "    }\n",
              "  </style>\n",
              "\n",
              "      <script>\n",
              "        const buttonEl =\n",
              "          document.querySelector('#df-37cbcd21-2762-4333-8b85-7bb513d092d0 button.colab-df-convert');\n",
              "        buttonEl.style.display =\n",
              "          google.colab.kernel.accessAllowed ? 'block' : 'none';\n",
              "\n",
              "        async function convertToInteractive(key) {\n",
              "          const element = document.querySelector('#df-37cbcd21-2762-4333-8b85-7bb513d092d0');\n",
              "          const dataTable =\n",
              "            await google.colab.kernel.invokeFunction('convertToInteractive',\n",
              "                                                     [key], {});\n",
              "          if (!dataTable) return;\n",
              "\n",
              "          const docLinkHtml = 'Like what you see? Visit the ' +\n",
              "            '<a target=\"_blank\" href=https://colab.research.google.com/notebooks/data_table.ipynb>data table notebook</a>'\n",
              "            + ' to learn more about interactive tables.';\n",
              "          element.innerHTML = '';\n",
              "          dataTable['output_type'] = 'display_data';\n",
              "          await google.colab.output.renderOutput(dataTable, element);\n",
              "          const docLink = document.createElement('div');\n",
              "          docLink.innerHTML = docLinkHtml;\n",
              "          element.appendChild(docLink);\n",
              "        }\n",
              "      </script>\n",
              "    </div>\n",
              "  </div>\n",
              "  "
            ],
            "text/plain": [
              "         Nombres  Puntos\n",
              "0   Carlos Yanes     100\n",
              "1     Jose Ramos      89\n",
              "2  Andres Vargas      75"
            ]
          },
          "metadata": {},
          "execution_count": 19
        }
      ]
    },
    {
      "cell_type": "markdown",
      "source": [
        "Otro formato son los diccionarios, estos como en la parte anterior llevan una forma llamada `diccionario`"
      ],
      "metadata": {
        "id": "Bec6Mz2cEX_M"
      }
    },
    {
      "cell_type": "code",
      "source": [
        "# Tenemos un diccionario:\n",
        "data = {'Nombres':['Carlos Yanes', 'Jose Ramos', 'Andres Vargas', 'Juan Taborda'],\n",
        "        'Puntos':[100, 89, 75, 21]}\n",
        " \n",
        "# Cremos la dataframe\n",
        "df = pd.DataFrame(data)\n",
        " \n",
        "# Y miramos los datos\n",
        "df"
      ],
      "metadata": {
        "colab": {
          "base_uri": "https://localhost:8080/",
          "height": 175
        },
        "id": "H98LzXs-EXHy",
        "outputId": "00c4e9d8-9ae5-4d54-cb7a-f4fb658f25a5"
      },
      "execution_count": 20,
      "outputs": [
        {
          "output_type": "execute_result",
          "data": {
            "text/html": [
              "\n",
              "  <div id=\"df-ffb7b601-cc03-4aa1-92bf-082296cc0979\">\n",
              "    <div class=\"colab-df-container\">\n",
              "      <div>\n",
              "<style scoped>\n",
              "    .dataframe tbody tr th:only-of-type {\n",
              "        vertical-align: middle;\n",
              "    }\n",
              "\n",
              "    .dataframe tbody tr th {\n",
              "        vertical-align: top;\n",
              "    }\n",
              "\n",
              "    .dataframe thead th {\n",
              "        text-align: right;\n",
              "    }\n",
              "</style>\n",
              "<table border=\"1\" class=\"dataframe\">\n",
              "  <thead>\n",
              "    <tr style=\"text-align: right;\">\n",
              "      <th></th>\n",
              "      <th>Nombres</th>\n",
              "      <th>Puntos</th>\n",
              "    </tr>\n",
              "  </thead>\n",
              "  <tbody>\n",
              "    <tr>\n",
              "      <th>0</th>\n",
              "      <td>Carlos Yanes</td>\n",
              "      <td>100</td>\n",
              "    </tr>\n",
              "    <tr>\n",
              "      <th>1</th>\n",
              "      <td>Jose Ramos</td>\n",
              "      <td>89</td>\n",
              "    </tr>\n",
              "    <tr>\n",
              "      <th>2</th>\n",
              "      <td>Andres Vargas</td>\n",
              "      <td>75</td>\n",
              "    </tr>\n",
              "    <tr>\n",
              "      <th>3</th>\n",
              "      <td>Juan Taborda</td>\n",
              "      <td>21</td>\n",
              "    </tr>\n",
              "  </tbody>\n",
              "</table>\n",
              "</div>\n",
              "      <button class=\"colab-df-convert\" onclick=\"convertToInteractive('df-ffb7b601-cc03-4aa1-92bf-082296cc0979')\"\n",
              "              title=\"Convert this dataframe to an interactive table.\"\n",
              "              style=\"display:none;\">\n",
              "        \n",
              "  <svg xmlns=\"http://www.w3.org/2000/svg\" height=\"24px\"viewBox=\"0 0 24 24\"\n",
              "       width=\"24px\">\n",
              "    <path d=\"M0 0h24v24H0V0z\" fill=\"none\"/>\n",
              "    <path d=\"M18.56 5.44l.94 2.06.94-2.06 2.06-.94-2.06-.94-.94-2.06-.94 2.06-2.06.94zm-11 1L8.5 8.5l.94-2.06 2.06-.94-2.06-.94L8.5 2.5l-.94 2.06-2.06.94zm10 10l.94 2.06.94-2.06 2.06-.94-2.06-.94-.94-2.06-.94 2.06-2.06.94z\"/><path d=\"M17.41 7.96l-1.37-1.37c-.4-.4-.92-.59-1.43-.59-.52 0-1.04.2-1.43.59L10.3 9.45l-7.72 7.72c-.78.78-.78 2.05 0 2.83L4 21.41c.39.39.9.59 1.41.59.51 0 1.02-.2 1.41-.59l7.78-7.78 2.81-2.81c.8-.78.8-2.07 0-2.86zM5.41 20L4 18.59l7.72-7.72 1.47 1.35L5.41 20z\"/>\n",
              "  </svg>\n",
              "      </button>\n",
              "      \n",
              "  <style>\n",
              "    .colab-df-container {\n",
              "      display:flex;\n",
              "      flex-wrap:wrap;\n",
              "      gap: 12px;\n",
              "    }\n",
              "\n",
              "    .colab-df-convert {\n",
              "      background-color: #E8F0FE;\n",
              "      border: none;\n",
              "      border-radius: 50%;\n",
              "      cursor: pointer;\n",
              "      display: none;\n",
              "      fill: #1967D2;\n",
              "      height: 32px;\n",
              "      padding: 0 0 0 0;\n",
              "      width: 32px;\n",
              "    }\n",
              "\n",
              "    .colab-df-convert:hover {\n",
              "      background-color: #E2EBFA;\n",
              "      box-shadow: 0px 1px 2px rgba(60, 64, 67, 0.3), 0px 1px 3px 1px rgba(60, 64, 67, 0.15);\n",
              "      fill: #174EA6;\n",
              "    }\n",
              "\n",
              "    [theme=dark] .colab-df-convert {\n",
              "      background-color: #3B4455;\n",
              "      fill: #D2E3FC;\n",
              "    }\n",
              "\n",
              "    [theme=dark] .colab-df-convert:hover {\n",
              "      background-color: #434B5C;\n",
              "      box-shadow: 0px 1px 3px 1px rgba(0, 0, 0, 0.15);\n",
              "      filter: drop-shadow(0px 1px 2px rgba(0, 0, 0, 0.3));\n",
              "      fill: #FFFFFF;\n",
              "    }\n",
              "  </style>\n",
              "\n",
              "      <script>\n",
              "        const buttonEl =\n",
              "          document.querySelector('#df-ffb7b601-cc03-4aa1-92bf-082296cc0979 button.colab-df-convert');\n",
              "        buttonEl.style.display =\n",
              "          google.colab.kernel.accessAllowed ? 'block' : 'none';\n",
              "\n",
              "        async function convertToInteractive(key) {\n",
              "          const element = document.querySelector('#df-ffb7b601-cc03-4aa1-92bf-082296cc0979');\n",
              "          const dataTable =\n",
              "            await google.colab.kernel.invokeFunction('convertToInteractive',\n",
              "                                                     [key], {});\n",
              "          if (!dataTable) return;\n",
              "\n",
              "          const docLinkHtml = 'Like what you see? Visit the ' +\n",
              "            '<a target=\"_blank\" href=https://colab.research.google.com/notebooks/data_table.ipynb>data table notebook</a>'\n",
              "            + ' to learn more about interactive tables.';\n",
              "          element.innerHTML = '';\n",
              "          dataTable['output_type'] = 'display_data';\n",
              "          await google.colab.output.renderOutput(dataTable, element);\n",
              "          const docLink = document.createElement('div');\n",
              "          docLink.innerHTML = docLinkHtml;\n",
              "          element.appendChild(docLink);\n",
              "        }\n",
              "      </script>\n",
              "    </div>\n",
              "  </div>\n",
              "  "
            ],
            "text/plain": [
              "         Nombres  Puntos\n",
              "0   Carlos Yanes     100\n",
              "1     Jose Ramos      89\n",
              "2  Andres Vargas      75\n",
              "3   Juan Taborda      21"
            ]
          },
          "metadata": {},
          "execution_count": 20
        }
      ]
    },
    {
      "cell_type": "markdown",
      "source": [
        "Dentro del trabajo del dataframe y del paquete de `pandas` podemos integrar un par de comandos, que nos permiten conocer mejor la base\n",
        "\n",
        "~~~python\n",
        ".shape\n",
        ".head()\n",
        ".tail()\n",
        "~~~\n",
        "\n",
        "Y para de algunas estadísticas descriptivas\n",
        "~~~python\n",
        ".describe()\n",
        ".quantile()\n",
        "~~~"
      ],
      "metadata": {
        "id": "WIW_-kaPFnP1"
      }
    },
    {
      "cell_type": "markdown",
      "source": [
        "### Ejercicio 4\n",
        "\n",
        "A. Visualice con `describe()` las estadísticas de la base de datos.\n",
        "\n",
        "B. Añada una nueva columna que lleve como nombre `cerveza` y plantee el número de ellas que toma cada profesor. Tip: *puede usar* `df['cerveza'] = cerveza`"
      ],
      "metadata": {
        "id": "UFBGgZYnF8hN"
      }
    },
    {
      "cell_type": "markdown",
      "source": [
        "# Bit-binancer\n",
        "\n",
        "Al igual que en la sesión anterior, miraremos algunos resultados ▶ de **R** acá en Python. Haremos un poco de *data wrangling* y un poco de visualización. La idea es casi que replicar lo realizado."
      ],
      "metadata": {
        "id": "9qIIBDd0lONO"
      }
    },
    {
      "cell_type": "markdown",
      "source": [
        "Para conseguir o extraer una base desde un link o api de Binance se estableció toda una función para poder realizar el *web scraping* y con un par de opciones y usando el operador de corchetes `{}` que viene siendo la construcción de diccionarios o formas de entablar bases de datos en **Python**.\n",
        "\n",
        "Haremos uso de algunas estadísticas claves, para tener mayor información sobre esta. \n",
        "\n",
        "**Primero** que todo hay que preparar el entorno, esto significa que debemos instalar e importar los paquetes a usar. Recuerde el uso de `!pip` y de `import` cuando corresponda. Miremos entonces el ejemplo."
      ],
      "metadata": {
        "id": "Z5ABXG8HpUaU"
      }
    },
    {
      "cell_type": "code",
      "source": [
        "!pip install fsspec\n",
        "!pip install ray\n",
        "!pip install dask[ray]"
      ],
      "metadata": {
        "colab": {
          "base_uri": "https://localhost:8080/"
        },
        "id": "c66clEBeRWzV",
        "outputId": "ae6b456e-9820-45a0-abc1-73aa7f9c6447"
      },
      "execution_count": 26,
      "outputs": [
        {
          "output_type": "stream",
          "name": "stdout",
          "text": [
            "Collecting fsspec\n",
            "  Downloading fsspec-2022.2.0-py3-none-any.whl (134 kB)\n",
            "\u001b[?25l\r\u001b[K     |██▍                             | 10 kB 14.5 MB/s eta 0:00:01\r\u001b[K     |████▉                           | 20 kB 14.1 MB/s eta 0:00:01\r\u001b[K     |███████▎                        | 30 kB 10.5 MB/s eta 0:00:01\r\u001b[K     |█████████▊                      | 40 kB 9.2 MB/s eta 0:00:01\r\u001b[K     |████████████▏                   | 51 kB 6.7 MB/s eta 0:00:01\r\u001b[K     |██████████████▋                 | 61 kB 6.8 MB/s eta 0:00:01\r\u001b[K     |█████████████████               | 71 kB 7.7 MB/s eta 0:00:01\r\u001b[K     |███████████████████▍            | 81 kB 7.0 MB/s eta 0:00:01\r\u001b[K     |█████████████████████▉          | 92 kB 7.7 MB/s eta 0:00:01\r\u001b[K     |████████████████████████▎       | 102 kB 7.8 MB/s eta 0:00:01\r\u001b[K     |██████████████████████████▊     | 112 kB 7.8 MB/s eta 0:00:01\r\u001b[K     |█████████████████████████████▏  | 122 kB 7.8 MB/s eta 0:00:01\r\u001b[K     |███████████████████████████████▋| 133 kB 7.8 MB/s eta 0:00:01\r\u001b[K     |████████████████████████████████| 134 kB 7.8 MB/s \n",
            "\u001b[?25hInstalling collected packages: fsspec\n",
            "Successfully installed fsspec-2022.2.0\n",
            "Collecting ray\n",
            "  Downloading ray-1.10.0-cp37-cp37m-manylinux2014_x86_64.whl (59.6 MB)\n",
            "\u001b[K     |████████████████████████████████| 59.6 MB 1.1 MB/s \n",
            "\u001b[?25hCollecting redis>=3.5.0\n",
            "  Downloading redis-4.1.4-py3-none-any.whl (175 kB)\n",
            "\u001b[K     |████████████████████████████████| 175 kB 34.9 MB/s \n",
            "\u001b[?25hRequirement already satisfied: filelock in /usr/local/lib/python3.7/dist-packages (from ray) (3.6.0)\n",
            "Requirement already satisfied: protobuf>=3.15.3 in /usr/local/lib/python3.7/dist-packages (from ray) (3.17.3)\n",
            "Requirement already satisfied: click>=7.0 in /usr/local/lib/python3.7/dist-packages (from ray) (7.1.2)\n",
            "Requirement already satisfied: msgpack<2.0.0,>=1.0.0 in /usr/local/lib/python3.7/dist-packages (from ray) (1.0.3)\n",
            "Requirement already satisfied: attrs in /usr/local/lib/python3.7/dist-packages (from ray) (21.4.0)\n",
            "Requirement already satisfied: jsonschema in /usr/local/lib/python3.7/dist-packages (from ray) (4.3.3)\n",
            "Requirement already satisfied: numpy>=1.16 in /usr/local/lib/python3.7/dist-packages (from ray) (1.21.5)\n",
            "Requirement already satisfied: grpcio>=1.28.1 in /usr/local/lib/python3.7/dist-packages (from ray) (1.43.0)\n",
            "Requirement already satisfied: pyyaml in /usr/local/lib/python3.7/dist-packages (from ray) (3.13)\n",
            "Requirement already satisfied: six>=1.5.2 in /usr/local/lib/python3.7/dist-packages (from grpcio>=1.28.1->ray) (1.15.0)\n",
            "Collecting deprecated>=1.2.3\n",
            "  Downloading Deprecated-1.2.13-py2.py3-none-any.whl (9.6 kB)\n",
            "Requirement already satisfied: importlib-metadata>=1.0 in /usr/local/lib/python3.7/dist-packages (from redis>=3.5.0->ray) (4.11.1)\n",
            "Requirement already satisfied: packaging>=20.4 in /usr/local/lib/python3.7/dist-packages (from redis>=3.5.0->ray) (21.3)\n",
            "Requirement already satisfied: wrapt<2,>=1.10 in /usr/local/lib/python3.7/dist-packages (from deprecated>=1.2.3->redis>=3.5.0->ray) (1.13.3)\n",
            "Requirement already satisfied: typing-extensions>=3.6.4 in /usr/local/lib/python3.7/dist-packages (from importlib-metadata>=1.0->redis>=3.5.0->ray) (3.10.0.2)\n",
            "Requirement already satisfied: zipp>=0.5 in /usr/local/lib/python3.7/dist-packages (from importlib-metadata>=1.0->redis>=3.5.0->ray) (3.7.0)\n",
            "Requirement already satisfied: pyparsing!=3.0.5,>=2.0.2 in /usr/local/lib/python3.7/dist-packages (from packaging>=20.4->redis>=3.5.0->ray) (3.0.7)\n",
            "Requirement already satisfied: importlib-resources>=1.4.0 in /usr/local/lib/python3.7/dist-packages (from jsonschema->ray) (5.4.0)\n",
            "Requirement already satisfied: pyrsistent!=0.17.0,!=0.17.1,!=0.17.2,>=0.14.0 in /usr/local/lib/python3.7/dist-packages (from jsonschema->ray) (0.18.1)\n",
            "Installing collected packages: deprecated, redis, ray\n",
            "Successfully installed deprecated-1.2.13 ray-1.10.0 redis-4.1.4\n",
            "Requirement already satisfied: dask[ray] in /usr/local/lib/python3.7/dist-packages (2.12.0)\n",
            "\u001b[33mWARNING: dask 2.12.0 does not provide the extra 'ray'\u001b[0m\n"
          ]
        }
      ]
    },
    {
      "cell_type": "code",
      "source": [
        "import matplotlib.pyplot as plt # Graficos\n",
        "import numpy as np # Manejo de datos\n",
        "import pandas as pd # Análisis de datos\n",
        "import seaborn as sns # Otros Graficos\n",
        "\n",
        "# Paquetes avanzados para funciones adicionales\n",
        "\n",
        "import dask\n",
        "import dask.dataframe as dd\n",
        "import ray\n",
        "\n",
        "from ray.util.dask import ray_dask_get"
      ],
      "metadata": {
        "id": "WUTRAlyAIduZ"
      },
      "execution_count": 30,
      "outputs": []
    },
    {
      "cell_type": "markdown",
      "source": [
        "Despues de lo anterior podemos entonces empezar con la importación de datos y miraremos como podemos a partir de un archivo local subirlo al entorno de **Colab** y empezar a trabajar con el. *Recuerde que lo que subamos a la nube será solo temporal, ya que los recursos son públicos y entonces debe siempre tener presente que debe subir los datos cuando vaya a ejecutar ese proceso."
      ],
      "metadata": {
        "id": "tQVhs98MUbhF"
      }
    },
    {
      "cell_type": "code",
      "source": [
        "BTCUSDT_ARCHIVO = '/content/AAVE-BNB.parquet'\n",
        "CAMBIO = 'Cambio (%)'"
      ],
      "metadata": {
        "id": "bITPhiulrNEK"
      },
      "execution_count": 38,
      "outputs": []
    },
    {
      "cell_type": "markdown",
      "source": [
        "Procedemos entonces a subirlos, luego que el *load* del entorno lo haya hecho, podemos entonces definir algunas variables por sus tispo y subirlos y miramos su descripción momentanea."
      ],
      "metadata": {
        "id": "vbW7vVS9U7Y9"
      }
    },
    {
      "cell_type": "code",
      "source": [
        "df = dd.read_parquet(BTCUSDT_ARCHIVO,\n",
        "                     dtype={\n",
        "                         'open_time': np.datetime64,\n",
        "                         'open': np.float32,\n",
        "                         'high': np.float32,\n",
        "                         'low': np.float32,\n",
        "                         'close': np.float32,\n",
        "                         'volume': np.float32,\n",
        "                         'quote_asset_volume': np.float32,\n",
        "                         'number_of_trades': np.uint16,\n",
        "                         'taker_buy_base_asset_volume': np.float32,\n",
        "                         'taker_buy_quote_asset_volume': np.float32\n",
        "})\n",
        "df.describe()"
      ],
      "metadata": {
        "colab": {
          "base_uri": "https://localhost:8080/",
          "height": 198
        },
        "id": "FnpRkP0GRhgr",
        "outputId": "95150ffc-140e-47f9-f755-c7585b2eae42"
      },
      "execution_count": 39,
      "outputs": [
        {
          "output_type": "execute_result",
          "data": {
            "text/html": [
              "<div><strong>Dask DataFrame Structure:</strong></div>\n",
              "<div>\n",
              "<style scoped>\n",
              "    .dataframe tbody tr th:only-of-type {\n",
              "        vertical-align: middle;\n",
              "    }\n",
              "\n",
              "    .dataframe tbody tr th {\n",
              "        vertical-align: top;\n",
              "    }\n",
              "\n",
              "    .dataframe thead th {\n",
              "        text-align: right;\n",
              "    }\n",
              "</style>\n",
              "<table border=\"1\" class=\"dataframe\">\n",
              "  <thead>\n",
              "    <tr style=\"text-align: right;\">\n",
              "      <th></th>\n",
              "      <th>open</th>\n",
              "      <th>high</th>\n",
              "      <th>low</th>\n",
              "      <th>close</th>\n",
              "      <th>volume</th>\n",
              "      <th>quote_asset_volume</th>\n",
              "      <th>number_of_trades</th>\n",
              "      <th>taker_buy_base_asset_volume</th>\n",
              "      <th>taker_buy_quote_asset_volume</th>\n",
              "    </tr>\n",
              "    <tr>\n",
              "      <th>npartitions=1</th>\n",
              "      <th></th>\n",
              "      <th></th>\n",
              "      <th></th>\n",
              "      <th></th>\n",
              "      <th></th>\n",
              "      <th></th>\n",
              "      <th></th>\n",
              "      <th></th>\n",
              "      <th></th>\n",
              "    </tr>\n",
              "  </thead>\n",
              "  <tbody>\n",
              "    <tr>\n",
              "      <th></th>\n",
              "      <td>float64</td>\n",
              "      <td>float64</td>\n",
              "      <td>float64</td>\n",
              "      <td>float64</td>\n",
              "      <td>float64</td>\n",
              "      <td>float64</td>\n",
              "      <td>float64</td>\n",
              "      <td>float64</td>\n",
              "      <td>float64</td>\n",
              "    </tr>\n",
              "    <tr>\n",
              "      <th></th>\n",
              "      <td>...</td>\n",
              "      <td>...</td>\n",
              "      <td>...</td>\n",
              "      <td>...</td>\n",
              "      <td>...</td>\n",
              "      <td>...</td>\n",
              "      <td>...</td>\n",
              "      <td>...</td>\n",
              "      <td>...</td>\n",
              "    </tr>\n",
              "  </tbody>\n",
              "</table>\n",
              "</div>\n",
              "<div>Dask Name: describe-numeric, 54 tasks</div>"
            ],
            "text/plain": [
              "Dask DataFrame Structure:\n",
              "                  open     high      low    close   volume quote_asset_volume number_of_trades taker_buy_base_asset_volume taker_buy_quote_asset_volume\n",
              "npartitions=1                                                                                                                                          \n",
              "               float64  float64  float64  float64  float64            float64          float64                     float64                      float64\n",
              "                   ...      ...      ...      ...      ...                ...              ...                         ...                          ...\n",
              "Dask Name: describe-numeric, 54 tasks"
            ]
          },
          "metadata": {},
          "execution_count": 39
        }
      ]
    },
    {
      "cell_type": "markdown",
      "source": [
        "Queremos mirar un encabezado del archivo, ya que la data es un poco compleja de entender por lo que hay, incluso es posible que debamos eliminar algunos elementos o columnas que no requerimos.\n",
        "\n",
        "Eso lo podemos hacer con dos opciones de **pandas**:\n",
        "\n",
        "```Python\n",
        "df.head()\n",
        "df.tail()\n",
        "```\n",
        "\n"
      ],
      "metadata": {
        "id": "GeHVUd7mVjlB"
      }
    },
    {
      "cell_type": "code",
      "source": [
        "df.head(n=5)"
      ],
      "metadata": {
        "colab": {
          "base_uri": "https://localhost:8080/",
          "height": 388
        },
        "id": "2GXeT-3HTI5O",
        "outputId": "04962b0f-79d3-433b-8c88-94be64ed6862"
      },
      "execution_count": 40,
      "outputs": [
        {
          "output_type": "execute_result",
          "data": {
            "text/html": [
              "\n",
              "  <div id=\"df-09358e49-5a5d-4ef3-8624-eca006624886\">\n",
              "    <div class=\"colab-df-container\">\n",
              "      <div>\n",
              "<style scoped>\n",
              "    .dataframe tbody tr th:only-of-type {\n",
              "        vertical-align: middle;\n",
              "    }\n",
              "\n",
              "    .dataframe tbody tr th {\n",
              "        vertical-align: top;\n",
              "    }\n",
              "\n",
              "    .dataframe thead th {\n",
              "        text-align: right;\n",
              "    }\n",
              "</style>\n",
              "<table border=\"1\" class=\"dataframe\">\n",
              "  <thead>\n",
              "    <tr style=\"text-align: right;\">\n",
              "      <th></th>\n",
              "      <th>open</th>\n",
              "      <th>high</th>\n",
              "      <th>low</th>\n",
              "      <th>close</th>\n",
              "      <th>volume</th>\n",
              "      <th>quote_asset_volume</th>\n",
              "      <th>number_of_trades</th>\n",
              "      <th>taker_buy_base_asset_volume</th>\n",
              "      <th>taker_buy_quote_asset_volume</th>\n",
              "    </tr>\n",
              "    <tr>\n",
              "      <th>open_time</th>\n",
              "      <th></th>\n",
              "      <th></th>\n",
              "      <th></th>\n",
              "      <th></th>\n",
              "      <th></th>\n",
              "      <th></th>\n",
              "      <th></th>\n",
              "      <th></th>\n",
              "      <th></th>\n",
              "    </tr>\n",
              "  </thead>\n",
              "  <tbody>\n",
              "    <tr>\n",
              "      <th>2020-10-15 03:00:00</th>\n",
              "      <td>1.6591</td>\n",
              "      <td>1.9600</td>\n",
              "      <td>1.6591</td>\n",
              "      <td>1.8535</td>\n",
              "      <td>455.079987</td>\n",
              "      <td>843.267822</td>\n",
              "      <td>45</td>\n",
              "      <td>385.98999</td>\n",
              "      <td>714.939514</td>\n",
              "    </tr>\n",
              "    <tr>\n",
              "      <th>2020-10-15 03:01:00</th>\n",
              "      <td>1.8248</td>\n",
              "      <td>1.8248</td>\n",
              "      <td>1.6281</td>\n",
              "      <td>1.7016</td>\n",
              "      <td>20.309999</td>\n",
              "      <td>34.178413</td>\n",
              "      <td>32</td>\n",
              "      <td>0.78000</td>\n",
              "      <td>1.334554</td>\n",
              "    </tr>\n",
              "    <tr>\n",
              "      <th>2020-10-15 03:02:00</th>\n",
              "      <td>1.7151</td>\n",
              "      <td>1.7290</td>\n",
              "      <td>1.7000</td>\n",
              "      <td>1.7016</td>\n",
              "      <td>81.610001</td>\n",
              "      <td>138.923218</td>\n",
              "      <td>11</td>\n",
              "      <td>2.01000</td>\n",
              "      <td>3.475164</td>\n",
              "    </tr>\n",
              "    <tr>\n",
              "      <th>2020-10-15 03:03:00</th>\n",
              "      <td>1.7042</td>\n",
              "      <td>1.7042</td>\n",
              "      <td>1.7042</td>\n",
              "      <td>1.7042</td>\n",
              "      <td>0.300000</td>\n",
              "      <td>0.511260</td>\n",
              "      <td>1</td>\n",
              "      <td>0.30000</td>\n",
              "      <td>0.511260</td>\n",
              "    </tr>\n",
              "    <tr>\n",
              "      <th>2020-10-15 03:04:00</th>\n",
              "      <td>1.7042</td>\n",
              "      <td>1.7044</td>\n",
              "      <td>1.7042</td>\n",
              "      <td>1.7043</td>\n",
              "      <td>5.460000</td>\n",
              "      <td>9.305506</td>\n",
              "      <td>3</td>\n",
              "      <td>5.46000</td>\n",
              "      <td>9.305506</td>\n",
              "    </tr>\n",
              "  </tbody>\n",
              "</table>\n",
              "</div>\n",
              "      <button class=\"colab-df-convert\" onclick=\"convertToInteractive('df-09358e49-5a5d-4ef3-8624-eca006624886')\"\n",
              "              title=\"Convert this dataframe to an interactive table.\"\n",
              "              style=\"display:none;\">\n",
              "        \n",
              "  <svg xmlns=\"http://www.w3.org/2000/svg\" height=\"24px\"viewBox=\"0 0 24 24\"\n",
              "       width=\"24px\">\n",
              "    <path d=\"M0 0h24v24H0V0z\" fill=\"none\"/>\n",
              "    <path d=\"M18.56 5.44l.94 2.06.94-2.06 2.06-.94-2.06-.94-.94-2.06-.94 2.06-2.06.94zm-11 1L8.5 8.5l.94-2.06 2.06-.94-2.06-.94L8.5 2.5l-.94 2.06-2.06.94zm10 10l.94 2.06.94-2.06 2.06-.94-2.06-.94-.94-2.06-.94 2.06-2.06.94z\"/><path d=\"M17.41 7.96l-1.37-1.37c-.4-.4-.92-.59-1.43-.59-.52 0-1.04.2-1.43.59L10.3 9.45l-7.72 7.72c-.78.78-.78 2.05 0 2.83L4 21.41c.39.39.9.59 1.41.59.51 0 1.02-.2 1.41-.59l7.78-7.78 2.81-2.81c.8-.78.8-2.07 0-2.86zM5.41 20L4 18.59l7.72-7.72 1.47 1.35L5.41 20z\"/>\n",
              "  </svg>\n",
              "      </button>\n",
              "      \n",
              "  <style>\n",
              "    .colab-df-container {\n",
              "      display:flex;\n",
              "      flex-wrap:wrap;\n",
              "      gap: 12px;\n",
              "    }\n",
              "\n",
              "    .colab-df-convert {\n",
              "      background-color: #E8F0FE;\n",
              "      border: none;\n",
              "      border-radius: 50%;\n",
              "      cursor: pointer;\n",
              "      display: none;\n",
              "      fill: #1967D2;\n",
              "      height: 32px;\n",
              "      padding: 0 0 0 0;\n",
              "      width: 32px;\n",
              "    }\n",
              "\n",
              "    .colab-df-convert:hover {\n",
              "      background-color: #E2EBFA;\n",
              "      box-shadow: 0px 1px 2px rgba(60, 64, 67, 0.3), 0px 1px 3px 1px rgba(60, 64, 67, 0.15);\n",
              "      fill: #174EA6;\n",
              "    }\n",
              "\n",
              "    [theme=dark] .colab-df-convert {\n",
              "      background-color: #3B4455;\n",
              "      fill: #D2E3FC;\n",
              "    }\n",
              "\n",
              "    [theme=dark] .colab-df-convert:hover {\n",
              "      background-color: #434B5C;\n",
              "      box-shadow: 0px 1px 3px 1px rgba(0, 0, 0, 0.15);\n",
              "      filter: drop-shadow(0px 1px 2px rgba(0, 0, 0, 0.3));\n",
              "      fill: #FFFFFF;\n",
              "    }\n",
              "  </style>\n",
              "\n",
              "      <script>\n",
              "        const buttonEl =\n",
              "          document.querySelector('#df-09358e49-5a5d-4ef3-8624-eca006624886 button.colab-df-convert');\n",
              "        buttonEl.style.display =\n",
              "          google.colab.kernel.accessAllowed ? 'block' : 'none';\n",
              "\n",
              "        async function convertToInteractive(key) {\n",
              "          const element = document.querySelector('#df-09358e49-5a5d-4ef3-8624-eca006624886');\n",
              "          const dataTable =\n",
              "            await google.colab.kernel.invokeFunction('convertToInteractive',\n",
              "                                                     [key], {});\n",
              "          if (!dataTable) return;\n",
              "\n",
              "          const docLinkHtml = 'Like what you see? Visit the ' +\n",
              "            '<a target=\"_blank\" href=https://colab.research.google.com/notebooks/data_table.ipynb>data table notebook</a>'\n",
              "            + ' to learn more about interactive tables.';\n",
              "          element.innerHTML = '';\n",
              "          dataTable['output_type'] = 'display_data';\n",
              "          await google.colab.output.renderOutput(dataTable, element);\n",
              "          const docLink = document.createElement('div');\n",
              "          docLink.innerHTML = docLinkHtml;\n",
              "          element.appendChild(docLink);\n",
              "        }\n",
              "      </script>\n",
              "    </div>\n",
              "  </div>\n",
              "  "
            ],
            "text/plain": [
              "                       open  ...  taker_buy_quote_asset_volume\n",
              "open_time                    ...                              \n",
              "2020-10-15 03:00:00  1.6591  ...                    714.939514\n",
              "2020-10-15 03:01:00  1.8248  ...                      1.334554\n",
              "2020-10-15 03:02:00  1.7151  ...                      3.475164\n",
              "2020-10-15 03:03:00  1.7042  ...                      0.511260\n",
              "2020-10-15 03:04:00  1.7042  ...                      9.305506\n",
              "\n",
              "[5 rows x 9 columns]"
            ]
          },
          "metadata": {},
          "execution_count": 40
        }
      ]
    },
    {
      "cell_type": "markdown",
      "source": [
        "Si queremos entablar un filtro eliminando por lo pronto las últimas columnas del dataframe, facil hacerlo con el comando `columns`"
      ],
      "metadata": {
        "id": "Bc1iK_qiWQU3"
      }
    },
    {
      "cell_type": "code",
      "source": [
        "df = df[df.columns[:5]]\n",
        "df.head()"
      ],
      "metadata": {
        "colab": {
          "base_uri": "https://localhost:8080/",
          "height": 237
        },
        "id": "MiCTpgtuTXqh",
        "outputId": "3ff15058-a698-41fc-f921-23884ae1a73b"
      },
      "execution_count": 41,
      "outputs": [
        {
          "output_type": "execute_result",
          "data": {
            "text/html": [
              "\n",
              "  <div id=\"df-1fa1949d-231c-4df4-b7eb-0ad82bc4fc7c\">\n",
              "    <div class=\"colab-df-container\">\n",
              "      <div>\n",
              "<style scoped>\n",
              "    .dataframe tbody tr th:only-of-type {\n",
              "        vertical-align: middle;\n",
              "    }\n",
              "\n",
              "    .dataframe tbody tr th {\n",
              "        vertical-align: top;\n",
              "    }\n",
              "\n",
              "    .dataframe thead th {\n",
              "        text-align: right;\n",
              "    }\n",
              "</style>\n",
              "<table border=\"1\" class=\"dataframe\">\n",
              "  <thead>\n",
              "    <tr style=\"text-align: right;\">\n",
              "      <th></th>\n",
              "      <th>open</th>\n",
              "      <th>high</th>\n",
              "      <th>low</th>\n",
              "      <th>close</th>\n",
              "      <th>volume</th>\n",
              "    </tr>\n",
              "    <tr>\n",
              "      <th>open_time</th>\n",
              "      <th></th>\n",
              "      <th></th>\n",
              "      <th></th>\n",
              "      <th></th>\n",
              "      <th></th>\n",
              "    </tr>\n",
              "  </thead>\n",
              "  <tbody>\n",
              "    <tr>\n",
              "      <th>2020-10-15 03:00:00</th>\n",
              "      <td>1.6591</td>\n",
              "      <td>1.9600</td>\n",
              "      <td>1.6591</td>\n",
              "      <td>1.8535</td>\n",
              "      <td>455.079987</td>\n",
              "    </tr>\n",
              "    <tr>\n",
              "      <th>2020-10-15 03:01:00</th>\n",
              "      <td>1.8248</td>\n",
              "      <td>1.8248</td>\n",
              "      <td>1.6281</td>\n",
              "      <td>1.7016</td>\n",
              "      <td>20.309999</td>\n",
              "    </tr>\n",
              "    <tr>\n",
              "      <th>2020-10-15 03:02:00</th>\n",
              "      <td>1.7151</td>\n",
              "      <td>1.7290</td>\n",
              "      <td>1.7000</td>\n",
              "      <td>1.7016</td>\n",
              "      <td>81.610001</td>\n",
              "    </tr>\n",
              "    <tr>\n",
              "      <th>2020-10-15 03:03:00</th>\n",
              "      <td>1.7042</td>\n",
              "      <td>1.7042</td>\n",
              "      <td>1.7042</td>\n",
              "      <td>1.7042</td>\n",
              "      <td>0.300000</td>\n",
              "    </tr>\n",
              "    <tr>\n",
              "      <th>2020-10-15 03:04:00</th>\n",
              "      <td>1.7042</td>\n",
              "      <td>1.7044</td>\n",
              "      <td>1.7042</td>\n",
              "      <td>1.7043</td>\n",
              "      <td>5.460000</td>\n",
              "    </tr>\n",
              "  </tbody>\n",
              "</table>\n",
              "</div>\n",
              "      <button class=\"colab-df-convert\" onclick=\"convertToInteractive('df-1fa1949d-231c-4df4-b7eb-0ad82bc4fc7c')\"\n",
              "              title=\"Convert this dataframe to an interactive table.\"\n",
              "              style=\"display:none;\">\n",
              "        \n",
              "  <svg xmlns=\"http://www.w3.org/2000/svg\" height=\"24px\"viewBox=\"0 0 24 24\"\n",
              "       width=\"24px\">\n",
              "    <path d=\"M0 0h24v24H0V0z\" fill=\"none\"/>\n",
              "    <path d=\"M18.56 5.44l.94 2.06.94-2.06 2.06-.94-2.06-.94-.94-2.06-.94 2.06-2.06.94zm-11 1L8.5 8.5l.94-2.06 2.06-.94-2.06-.94L8.5 2.5l-.94 2.06-2.06.94zm10 10l.94 2.06.94-2.06 2.06-.94-2.06-.94-.94-2.06-.94 2.06-2.06.94z\"/><path d=\"M17.41 7.96l-1.37-1.37c-.4-.4-.92-.59-1.43-.59-.52 0-1.04.2-1.43.59L10.3 9.45l-7.72 7.72c-.78.78-.78 2.05 0 2.83L4 21.41c.39.39.9.59 1.41.59.51 0 1.02-.2 1.41-.59l7.78-7.78 2.81-2.81c.8-.78.8-2.07 0-2.86zM5.41 20L4 18.59l7.72-7.72 1.47 1.35L5.41 20z\"/>\n",
              "  </svg>\n",
              "      </button>\n",
              "      \n",
              "  <style>\n",
              "    .colab-df-container {\n",
              "      display:flex;\n",
              "      flex-wrap:wrap;\n",
              "      gap: 12px;\n",
              "    }\n",
              "\n",
              "    .colab-df-convert {\n",
              "      background-color: #E8F0FE;\n",
              "      border: none;\n",
              "      border-radius: 50%;\n",
              "      cursor: pointer;\n",
              "      display: none;\n",
              "      fill: #1967D2;\n",
              "      height: 32px;\n",
              "      padding: 0 0 0 0;\n",
              "      width: 32px;\n",
              "    }\n",
              "\n",
              "    .colab-df-convert:hover {\n",
              "      background-color: #E2EBFA;\n",
              "      box-shadow: 0px 1px 2px rgba(60, 64, 67, 0.3), 0px 1px 3px 1px rgba(60, 64, 67, 0.15);\n",
              "      fill: #174EA6;\n",
              "    }\n",
              "\n",
              "    [theme=dark] .colab-df-convert {\n",
              "      background-color: #3B4455;\n",
              "      fill: #D2E3FC;\n",
              "    }\n",
              "\n",
              "    [theme=dark] .colab-df-convert:hover {\n",
              "      background-color: #434B5C;\n",
              "      box-shadow: 0px 1px 3px 1px rgba(0, 0, 0, 0.15);\n",
              "      filter: drop-shadow(0px 1px 2px rgba(0, 0, 0, 0.3));\n",
              "      fill: #FFFFFF;\n",
              "    }\n",
              "  </style>\n",
              "\n",
              "      <script>\n",
              "        const buttonEl =\n",
              "          document.querySelector('#df-1fa1949d-231c-4df4-b7eb-0ad82bc4fc7c button.colab-df-convert');\n",
              "        buttonEl.style.display =\n",
              "          google.colab.kernel.accessAllowed ? 'block' : 'none';\n",
              "\n",
              "        async function convertToInteractive(key) {\n",
              "          const element = document.querySelector('#df-1fa1949d-231c-4df4-b7eb-0ad82bc4fc7c');\n",
              "          const dataTable =\n",
              "            await google.colab.kernel.invokeFunction('convertToInteractive',\n",
              "                                                     [key], {});\n",
              "          if (!dataTable) return;\n",
              "\n",
              "          const docLinkHtml = 'Like what you see? Visit the ' +\n",
              "            '<a target=\"_blank\" href=https://colab.research.google.com/notebooks/data_table.ipynb>data table notebook</a>'\n",
              "            + ' to learn more about interactive tables.';\n",
              "          element.innerHTML = '';\n",
              "          dataTable['output_type'] = 'display_data';\n",
              "          await google.colab.output.renderOutput(dataTable, element);\n",
              "          const docLink = document.createElement('div');\n",
              "          docLink.innerHTML = docLinkHtml;\n",
              "          element.appendChild(docLink);\n",
              "        }\n",
              "      </script>\n",
              "    </div>\n",
              "  </div>\n",
              "  "
            ],
            "text/plain": [
              "                       open    high     low   close      volume\n",
              "open_time                                                      \n",
              "2020-10-15 03:00:00  1.6591  1.9600  1.6591  1.8535  455.079987\n",
              "2020-10-15 03:01:00  1.8248  1.8248  1.6281  1.7016   20.309999\n",
              "2020-10-15 03:02:00  1.7151  1.7290  1.7000  1.7016   81.610001\n",
              "2020-10-15 03:03:00  1.7042  1.7042  1.7042  1.7042    0.300000\n",
              "2020-10-15 03:04:00  1.7042  1.7044  1.7042  1.7043    5.460000"
            ]
          },
          "metadata": {},
          "execution_count": 41
        }
      ]
    },
    {
      "cell_type": "markdown",
      "source": [
        "Teniendo una base de datos un poco mas \"digerible\" podemos empezar a trabajar con ella y establecer una métrica fundamental en estos casos."
      ],
      "metadata": {
        "id": "ZvmnO4zUWdGm"
      }
    },
    {
      "cell_type": "code",
      "source": [
        "def aplicar_cambio(df: dask.dataframe.DataFrame):\n",
        "    \"\"\"\n",
        "    Esta función nos permite tener una nueva base de datos con una columna adicional que contiene\n",
        "    la variación o cambio (%) entre el precio de cierre y de apertura. \n",
        "    \"\"\"\n",
        "    resultado = dd.DataFrame.copy(df)\n",
        "    resultado[CAMBIO] = (resultado['close'] - resultado['open']) / resultado['open'] * 100\n",
        "    return resultado"
      ],
      "metadata": {
        "id": "MdEYLnq8TgsJ"
      },
      "execution_count": 42,
      "outputs": []
    },
    {
      "cell_type": "code",
      "source": [
        "df_1min = aplicar_cambio(df)\n",
        "df_1min.head(n=10)"
      ],
      "metadata": {
        "colab": {
          "base_uri": "https://localhost:8080/",
          "height": 394
        },
        "id": "6FGufGJ6Ti0P",
        "outputId": "76de6832-9e85-41a7-a14e-f19cad6b8de8"
      },
      "execution_count": 43,
      "outputs": [
        {
          "output_type": "execute_result",
          "data": {
            "text/html": [
              "\n",
              "  <div id=\"df-d376fce5-5849-4b80-8785-24970d1e87c3\">\n",
              "    <div class=\"colab-df-container\">\n",
              "      <div>\n",
              "<style scoped>\n",
              "    .dataframe tbody tr th:only-of-type {\n",
              "        vertical-align: middle;\n",
              "    }\n",
              "\n",
              "    .dataframe tbody tr th {\n",
              "        vertical-align: top;\n",
              "    }\n",
              "\n",
              "    .dataframe thead th {\n",
              "        text-align: right;\n",
              "    }\n",
              "</style>\n",
              "<table border=\"1\" class=\"dataframe\">\n",
              "  <thead>\n",
              "    <tr style=\"text-align: right;\">\n",
              "      <th></th>\n",
              "      <th>open</th>\n",
              "      <th>high</th>\n",
              "      <th>low</th>\n",
              "      <th>close</th>\n",
              "      <th>volume</th>\n",
              "      <th>Cambio (%)</th>\n",
              "    </tr>\n",
              "    <tr>\n",
              "      <th>open_time</th>\n",
              "      <th></th>\n",
              "      <th></th>\n",
              "      <th></th>\n",
              "      <th></th>\n",
              "      <th></th>\n",
              "      <th></th>\n",
              "    </tr>\n",
              "  </thead>\n",
              "  <tbody>\n",
              "    <tr>\n",
              "      <th>2020-10-15 03:00:00</th>\n",
              "      <td>1.6591</td>\n",
              "      <td>1.9600</td>\n",
              "      <td>1.6591</td>\n",
              "      <td>1.8535</td>\n",
              "      <td>455.079987</td>\n",
              "      <td>11.717193</td>\n",
              "    </tr>\n",
              "    <tr>\n",
              "      <th>2020-10-15 03:01:00</th>\n",
              "      <td>1.8248</td>\n",
              "      <td>1.8248</td>\n",
              "      <td>1.6281</td>\n",
              "      <td>1.7016</td>\n",
              "      <td>20.309999</td>\n",
              "      <td>-6.751428</td>\n",
              "    </tr>\n",
              "    <tr>\n",
              "      <th>2020-10-15 03:02:00</th>\n",
              "      <td>1.7151</td>\n",
              "      <td>1.7290</td>\n",
              "      <td>1.7000</td>\n",
              "      <td>1.7016</td>\n",
              "      <td>81.610001</td>\n",
              "      <td>-0.787132</td>\n",
              "    </tr>\n",
              "    <tr>\n",
              "      <th>2020-10-15 03:03:00</th>\n",
              "      <td>1.7042</td>\n",
              "      <td>1.7042</td>\n",
              "      <td>1.7042</td>\n",
              "      <td>1.7042</td>\n",
              "      <td>0.300000</td>\n",
              "      <td>0.000000</td>\n",
              "    </tr>\n",
              "    <tr>\n",
              "      <th>2020-10-15 03:04:00</th>\n",
              "      <td>1.7042</td>\n",
              "      <td>1.7044</td>\n",
              "      <td>1.7042</td>\n",
              "      <td>1.7043</td>\n",
              "      <td>5.460000</td>\n",
              "      <td>0.005869</td>\n",
              "    </tr>\n",
              "    <tr>\n",
              "      <th>2020-10-15 03:05:00</th>\n",
              "      <td>1.7041</td>\n",
              "      <td>1.7041</td>\n",
              "      <td>1.7041</td>\n",
              "      <td>1.7041</td>\n",
              "      <td>1.090000</td>\n",
              "      <td>0.000000</td>\n",
              "    </tr>\n",
              "    <tr>\n",
              "      <th>2020-10-15 03:06:00</th>\n",
              "      <td>1.6719</td>\n",
              "      <td>1.6719</td>\n",
              "      <td>1.6457</td>\n",
              "      <td>1.6457</td>\n",
              "      <td>31.389999</td>\n",
              "      <td>-1.567083</td>\n",
              "    </tr>\n",
              "    <tr>\n",
              "      <th>2020-10-15 03:07:00</th>\n",
              "      <td>1.6535</td>\n",
              "      <td>1.6595</td>\n",
              "      <td>1.6535</td>\n",
              "      <td>1.6595</td>\n",
              "      <td>14.780000</td>\n",
              "      <td>0.362869</td>\n",
              "    </tr>\n",
              "    <tr>\n",
              "      <th>2020-10-15 03:08:00</th>\n",
              "      <td>1.6595</td>\n",
              "      <td>1.6595</td>\n",
              "      <td>1.6595</td>\n",
              "      <td>1.6595</td>\n",
              "      <td>0.000000</td>\n",
              "      <td>0.000000</td>\n",
              "    </tr>\n",
              "    <tr>\n",
              "      <th>2020-10-15 03:09:00</th>\n",
              "      <td>1.6595</td>\n",
              "      <td>1.6595</td>\n",
              "      <td>1.6595</td>\n",
              "      <td>1.6595</td>\n",
              "      <td>0.000000</td>\n",
              "      <td>0.000000</td>\n",
              "    </tr>\n",
              "  </tbody>\n",
              "</table>\n",
              "</div>\n",
              "      <button class=\"colab-df-convert\" onclick=\"convertToInteractive('df-d376fce5-5849-4b80-8785-24970d1e87c3')\"\n",
              "              title=\"Convert this dataframe to an interactive table.\"\n",
              "              style=\"display:none;\">\n",
              "        \n",
              "  <svg xmlns=\"http://www.w3.org/2000/svg\" height=\"24px\"viewBox=\"0 0 24 24\"\n",
              "       width=\"24px\">\n",
              "    <path d=\"M0 0h24v24H0V0z\" fill=\"none\"/>\n",
              "    <path d=\"M18.56 5.44l.94 2.06.94-2.06 2.06-.94-2.06-.94-.94-2.06-.94 2.06-2.06.94zm-11 1L8.5 8.5l.94-2.06 2.06-.94-2.06-.94L8.5 2.5l-.94 2.06-2.06.94zm10 10l.94 2.06.94-2.06 2.06-.94-2.06-.94-.94-2.06-.94 2.06-2.06.94z\"/><path d=\"M17.41 7.96l-1.37-1.37c-.4-.4-.92-.59-1.43-.59-.52 0-1.04.2-1.43.59L10.3 9.45l-7.72 7.72c-.78.78-.78 2.05 0 2.83L4 21.41c.39.39.9.59 1.41.59.51 0 1.02-.2 1.41-.59l7.78-7.78 2.81-2.81c.8-.78.8-2.07 0-2.86zM5.41 20L4 18.59l7.72-7.72 1.47 1.35L5.41 20z\"/>\n",
              "  </svg>\n",
              "      </button>\n",
              "      \n",
              "  <style>\n",
              "    .colab-df-container {\n",
              "      display:flex;\n",
              "      flex-wrap:wrap;\n",
              "      gap: 12px;\n",
              "    }\n",
              "\n",
              "    .colab-df-convert {\n",
              "      background-color: #E8F0FE;\n",
              "      border: none;\n",
              "      border-radius: 50%;\n",
              "      cursor: pointer;\n",
              "      display: none;\n",
              "      fill: #1967D2;\n",
              "      height: 32px;\n",
              "      padding: 0 0 0 0;\n",
              "      width: 32px;\n",
              "    }\n",
              "\n",
              "    .colab-df-convert:hover {\n",
              "      background-color: #E2EBFA;\n",
              "      box-shadow: 0px 1px 2px rgba(60, 64, 67, 0.3), 0px 1px 3px 1px rgba(60, 64, 67, 0.15);\n",
              "      fill: #174EA6;\n",
              "    }\n",
              "\n",
              "    [theme=dark] .colab-df-convert {\n",
              "      background-color: #3B4455;\n",
              "      fill: #D2E3FC;\n",
              "    }\n",
              "\n",
              "    [theme=dark] .colab-df-convert:hover {\n",
              "      background-color: #434B5C;\n",
              "      box-shadow: 0px 1px 3px 1px rgba(0, 0, 0, 0.15);\n",
              "      filter: drop-shadow(0px 1px 2px rgba(0, 0, 0, 0.3));\n",
              "      fill: #FFFFFF;\n",
              "    }\n",
              "  </style>\n",
              "\n",
              "      <script>\n",
              "        const buttonEl =\n",
              "          document.querySelector('#df-d376fce5-5849-4b80-8785-24970d1e87c3 button.colab-df-convert');\n",
              "        buttonEl.style.display =\n",
              "          google.colab.kernel.accessAllowed ? 'block' : 'none';\n",
              "\n",
              "        async function convertToInteractive(key) {\n",
              "          const element = document.querySelector('#df-d376fce5-5849-4b80-8785-24970d1e87c3');\n",
              "          const dataTable =\n",
              "            await google.colab.kernel.invokeFunction('convertToInteractive',\n",
              "                                                     [key], {});\n",
              "          if (!dataTable) return;\n",
              "\n",
              "          const docLinkHtml = 'Like what you see? Visit the ' +\n",
              "            '<a target=\"_blank\" href=https://colab.research.google.com/notebooks/data_table.ipynb>data table notebook</a>'\n",
              "            + ' to learn more about interactive tables.';\n",
              "          element.innerHTML = '';\n",
              "          dataTable['output_type'] = 'display_data';\n",
              "          await google.colab.output.renderOutput(dataTable, element);\n",
              "          const docLink = document.createElement('div');\n",
              "          docLink.innerHTML = docLinkHtml;\n",
              "          element.appendChild(docLink);\n",
              "        }\n",
              "      </script>\n",
              "    </div>\n",
              "  </div>\n",
              "  "
            ],
            "text/plain": [
              "                       open    high     low   close      volume  Cambio (%)\n",
              "open_time                                                                  \n",
              "2020-10-15 03:00:00  1.6591  1.9600  1.6591  1.8535  455.079987   11.717193\n",
              "2020-10-15 03:01:00  1.8248  1.8248  1.6281  1.7016   20.309999   -6.751428\n",
              "2020-10-15 03:02:00  1.7151  1.7290  1.7000  1.7016   81.610001   -0.787132\n",
              "2020-10-15 03:03:00  1.7042  1.7042  1.7042  1.7042    0.300000    0.000000\n",
              "2020-10-15 03:04:00  1.7042  1.7044  1.7042  1.7043    5.460000    0.005869\n",
              "2020-10-15 03:05:00  1.7041  1.7041  1.7041  1.7041    1.090000    0.000000\n",
              "2020-10-15 03:06:00  1.6719  1.6719  1.6457  1.6457   31.389999   -1.567083\n",
              "2020-10-15 03:07:00  1.6535  1.6595  1.6535  1.6595   14.780000    0.362869\n",
              "2020-10-15 03:08:00  1.6595  1.6595  1.6595  1.6595    0.000000    0.000000\n",
              "2020-10-15 03:09:00  1.6595  1.6595  1.6595  1.6595    0.000000    0.000000"
            ]
          },
          "metadata": {},
          "execution_count": 43
        }
      ]
    },
    {
      "cell_type": "markdown",
      "source": [
        "La anterior salida nos muestra la variación por cada minuto que se dió con el BTC"
      ],
      "metadata": {
        "id": "F6gSR0F3hLLl"
      }
    },
    {
      "cell_type": "code",
      "source": [
        "sns.set(rc={'figure.figsize':(11.7,8.27)})\n",
        "\n",
        "def cambios_graficos(df: dask.dataframe.DataFrame):\n",
        "    plt.xticks(rotation=45) \n",
        "    sns.lineplot(data=df, x='open_time', y=CAMBIO)\n",
        "    \n",
        "cambios_graficos(df_1min.tail(n=20))"
      ],
      "metadata": {
        "colab": {
          "base_uri": "https://localhost:8080/",
          "height": 552
        },
        "id": "u5oFn_oLVAux",
        "outputId": "d614dede-09e7-46a3-95a4-3cb1ee67fe9e"
      },
      "execution_count": 44,
      "outputs": [
        {
          "output_type": "display_data",
          "data": {
            "image/png": "[encoded data removed]",
            "text/plain": [
              "<Figure size 842.4x595.44 with 1 Axes>"
            ]
          },
          "metadata": {}
        }
      ]
    },
    {
      "cell_type": "markdown",
      "source": [
        "Podemos hacer lo anterior de tal forma que podemos mirarlo por mes, cada 10 días y en efecto diario."
      ],
      "metadata": {
        "id": "uQjAend-jaeD"
      }
    },
    {
      "cell_type": "code",
      "source": [
        "# En el año por mes\n",
        "cambios_graficos(df_1min.compute().loc['2021-01-01':'2021-02-01', :]) # 1 mes"
      ],
      "metadata": {
        "colab": {
          "base_uri": "https://localhost:8080/",
          "height": 559
        },
        "id": "ck1pKQaJV3u0",
        "outputId": "ac363b4b-0052-4383-a515-03f66ed2fded"
      },
      "execution_count": 45,
      "outputs": [
        {
          "output_type": "display_data",
          "data": {
            "image/png": "[encoded data removed]",
            "text/plain": [
              "<Figure size 842.4x595.44 with 1 Axes>"
            ]
          },
          "metadata": {}
        }
      ]
    },
    {
      "cell_type": "code",
      "source": [
        "cambios_graficos(df_1min.compute().loc['2021-01-01':'2021-01-10', :]) # 10 días"
      ],
      "metadata": {
        "colab": {
          "base_uri": "https://localhost:8080/",
          "height": 559
        },
        "id": "O5pgI9HiWVVu",
        "outputId": "fedf7c97-46c9-474a-a24f-c266a6f25d57"
      },
      "execution_count": 46,
      "outputs": [
        {
          "output_type": "display_data",
          "data": {
            "image/png": "[encoded data removed]",
            "text/plain": [
              "<Figure size 842.4x595.44 with 1 Axes>"
            ]
          },
          "metadata": {}
        }
      ]
    },
    {
      "cell_type": "code",
      "source": [
        "cambios_graficos(df_1min.compute().loc['2021-01-01':'2021-01-01', :]) # 1 día"
      ],
      "metadata": {
        "colab": {
          "base_uri": "https://localhost:8080/",
          "height": 549
        },
        "id": "pmCapJVhWk4y",
        "outputId": "440c4907-1231-494e-e6e8-28a1c61c7677"
      },
      "execution_count": 47,
      "outputs": [
        {
          "output_type": "display_data",
          "data": {
            "image/png": "[encoded data removed]",
            "text/plain": [
              "<Figure size 842.4x595.44 with 1 Axes>"
            ]
          },
          "metadata": {}
        }
      ]
    },
    {
      "cell_type": "markdown",
      "source": [
        "Los análisis ya depende de la visión del analista. Puede generarlo por distintos periodos. La parte del código correspondiente a `.loc[]` es para la forma de etiqueta de selección de condiciones dentro de la base de datos."
      ],
      "metadata": {
        "id": "fDvwVcbxkFVk"
      }
    },
    {
      "cell_type": "markdown",
      "source": [
        "# Analisis por ventana y/o grupos\n",
        "\n",
        "Podemos tener un análisis de ventanas, casi que usando los formatos tipo velas. Para esto implementamos la siguiente función."
      ],
      "metadata": {
        "id": "NMcI6Kc4lAvV"
      }
    },
    {
      "cell_type": "code",
      "source": [
        "LOS_ULTIMOS = 100"
      ],
      "metadata": {
        "id": "v929I5-Ck_wK"
      },
      "execution_count": 48,
      "outputs": []
    },
    {
      "cell_type": "code",
      "source": [
        "def group_df(df: dd.DataFrame, freq: str = '1min'):\n",
        "    \"\"\"\n",
        "    La idea es agregar por grupos de interes de frecuencia\n",
        "    \"\"\"\n",
        "    return df.groupby(pd.Grouper(freq=freq)).agg({\n",
        "        'open': 'first',\n",
        "        'high': 'max',\n",
        "        'low': 'min',\n",
        "        'close': 'last',\n",
        "        'volume': 'sum'\n",
        "    })\n",
        "\n",
        "group_df(df_1min, '1min').tail()"
      ],
      "metadata": {
        "colab": {
          "base_uri": "https://localhost:8080/",
          "height": 237
        },
        "id": "MhYf2ZS-rQIS",
        "outputId": "f206ff1c-1263-422b-ccac-f82d3c7ef579"
      },
      "execution_count": 49,
      "outputs": [
        {
          "output_type": "execute_result",
          "data": {
            "text/html": [
              "\n",
              "  <div id=\"df-22661bc4-55fb-4333-8eb2-7a7c90698ae3\">\n",
              "    <div class=\"colab-df-container\">\n",
              "      <div>\n",
              "<style scoped>\n",
              "    .dataframe tbody tr th:only-of-type {\n",
              "        vertical-align: middle;\n",
              "    }\n",
              "\n",
              "    .dataframe tbody tr th {\n",
              "        vertical-align: top;\n",
              "    }\n",
              "\n",
              "    .dataframe thead th {\n",
              "        text-align: right;\n",
              "    }\n",
              "</style>\n",
              "<table border=\"1\" class=\"dataframe\">\n",
              "  <thead>\n",
              "    <tr style=\"text-align: right;\">\n",
              "      <th></th>\n",
              "      <th>open</th>\n",
              "      <th>high</th>\n",
              "      <th>low</th>\n",
              "      <th>close</th>\n",
              "      <th>volume</th>\n",
              "    </tr>\n",
              "    <tr>\n",
              "      <th>open_time</th>\n",
              "      <th></th>\n",
              "      <th></th>\n",
              "      <th></th>\n",
              "      <th></th>\n",
              "      <th></th>\n",
              "    </tr>\n",
              "  </thead>\n",
              "  <tbody>\n",
              "    <tr>\n",
              "      <th>2021-02-11 23:55:00</th>\n",
              "      <td>4.1495</td>\n",
              "      <td>4.1495</td>\n",
              "      <td>4.1495</td>\n",
              "      <td>4.1495</td>\n",
              "      <td>0.00</td>\n",
              "    </tr>\n",
              "    <tr>\n",
              "      <th>2021-02-11 23:56:00</th>\n",
              "      <td>4.1495</td>\n",
              "      <td>4.1495</td>\n",
              "      <td>4.1495</td>\n",
              "      <td>4.1495</td>\n",
              "      <td>0.00</td>\n",
              "    </tr>\n",
              "    <tr>\n",
              "      <th>2021-02-11 23:57:00</th>\n",
              "      <td>4.1495</td>\n",
              "      <td>4.1495</td>\n",
              "      <td>4.1495</td>\n",
              "      <td>4.1495</td>\n",
              "      <td>0.00</td>\n",
              "    </tr>\n",
              "    <tr>\n",
              "      <th>2021-02-11 23:58:00</th>\n",
              "      <td>4.1495</td>\n",
              "      <td>4.1495</td>\n",
              "      <td>4.1495</td>\n",
              "      <td>4.1495</td>\n",
              "      <td>0.00</td>\n",
              "    </tr>\n",
              "    <tr>\n",
              "      <th>2021-02-11 23:59:00</th>\n",
              "      <td>4.1775</td>\n",
              "      <td>4.1783</td>\n",
              "      <td>4.1650</td>\n",
              "      <td>4.1650</td>\n",
              "      <td>5.06</td>\n",
              "    </tr>\n",
              "  </tbody>\n",
              "</table>\n",
              "</div>\n",
              "      <button class=\"colab-df-convert\" onclick=\"convertToInteractive('df-22661bc4-55fb-4333-8eb2-7a7c90698ae3')\"\n",
              "              title=\"Convert this dataframe to an interactive table.\"\n",
              "              style=\"display:none;\">\n",
              "        \n",
              "  <svg xmlns=\"http://www.w3.org/2000/svg\" height=\"24px\"viewBox=\"0 0 24 24\"\n",
              "       width=\"24px\">\n",
              "    <path d=\"M0 0h24v24H0V0z\" fill=\"none\"/>\n",
              "    <path d=\"M18.56 5.44l.94 2.06.94-2.06 2.06-.94-2.06-.94-.94-2.06-.94 2.06-2.06.94zm-11 1L8.5 8.5l.94-2.06 2.06-.94-2.06-.94L8.5 2.5l-.94 2.06-2.06.94zm10 10l.94 2.06.94-2.06 2.06-.94-2.06-.94-.94-2.06-.94 2.06-2.06.94z\"/><path d=\"M17.41 7.96l-1.37-1.37c-.4-.4-.92-.59-1.43-.59-.52 0-1.04.2-1.43.59L10.3 9.45l-7.72 7.72c-.78.78-.78 2.05 0 2.83L4 21.41c.39.39.9.59 1.41.59.51 0 1.02-.2 1.41-.59l7.78-7.78 2.81-2.81c.8-.78.8-2.07 0-2.86zM5.41 20L4 18.59l7.72-7.72 1.47 1.35L5.41 20z\"/>\n",
              "  </svg>\n",
              "      </button>\n",
              "      \n",
              "  <style>\n",
              "    .colab-df-container {\n",
              "      display:flex;\n",
              "      flex-wrap:wrap;\n",
              "      gap: 12px;\n",
              "    }\n",
              "\n",
              "    .colab-df-convert {\n",
              "      background-color: #E8F0FE;\n",
              "      border: none;\n",
              "      border-radius: 50%;\n",
              "      cursor: pointer;\n",
              "      display: none;\n",
              "      fill: #1967D2;\n",
              "      height: 32px;\n",
              "      padding: 0 0 0 0;\n",
              "      width: 32px;\n",
              "    }\n",
              "\n",
              "    .colab-df-convert:hover {\n",
              "      background-color: #E2EBFA;\n",
              "      box-shadow: 0px 1px 2px rgba(60, 64, 67, 0.3), 0px 1px 3px 1px rgba(60, 64, 67, 0.15);\n",
              "      fill: #174EA6;\n",
              "    }\n",
              "\n",
              "    [theme=dark] .colab-df-convert {\n",
              "      background-color: #3B4455;\n",
              "      fill: #D2E3FC;\n",
              "    }\n",
              "\n",
              "    [theme=dark] .colab-df-convert:hover {\n",
              "      background-color: #434B5C;\n",
              "      box-shadow: 0px 1px 3px 1px rgba(0, 0, 0, 0.15);\n",
              "      filter: drop-shadow(0px 1px 2px rgba(0, 0, 0, 0.3));\n",
              "      fill: #FFFFFF;\n",
              "    }\n",
              "  </style>\n",
              "\n",
              "      <script>\n",
              "        const buttonEl =\n",
              "          document.querySelector('#df-22661bc4-55fb-4333-8eb2-7a7c90698ae3 button.colab-df-convert');\n",
              "        buttonEl.style.display =\n",
              "          google.colab.kernel.accessAllowed ? 'block' : 'none';\n",
              "\n",
              "        async function convertToInteractive(key) {\n",
              "          const element = document.querySelector('#df-22661bc4-55fb-4333-8eb2-7a7c90698ae3');\n",
              "          const dataTable =\n",
              "            await google.colab.kernel.invokeFunction('convertToInteractive',\n",
              "                                                     [key], {});\n",
              "          if (!dataTable) return;\n",
              "\n",
              "          const docLinkHtml = 'Like what you see? Visit the ' +\n",
              "            '<a target=\"_blank\" href=https://colab.research.google.com/notebooks/data_table.ipynb>data table notebook</a>'\n",
              "            + ' to learn more about interactive tables.';\n",
              "          element.innerHTML = '';\n",
              "          dataTable['output_type'] = 'display_data';\n",
              "          await google.colab.output.renderOutput(dataTable, element);\n",
              "          const docLink = document.createElement('div');\n",
              "          docLink.innerHTML = docLinkHtml;\n",
              "          element.appendChild(docLink);\n",
              "        }\n",
              "      </script>\n",
              "    </div>\n",
              "  </div>\n",
              "  "
            ],
            "text/plain": [
              "                       open    high     low   close  volume\n",
              "open_time                                                  \n",
              "2021-02-11 23:55:00  4.1495  4.1495  4.1495  4.1495    0.00\n",
              "2021-02-11 23:56:00  4.1495  4.1495  4.1495  4.1495    0.00\n",
              "2021-02-11 23:57:00  4.1495  4.1495  4.1495  4.1495    0.00\n",
              "2021-02-11 23:58:00  4.1495  4.1495  4.1495  4.1495    0.00\n",
              "2021-02-11 23:59:00  4.1775  4.1783  4.1650  4.1650    5.06"
            ]
          },
          "metadata": {},
          "execution_count": 49
        }
      ]
    },
    {
      "cell_type": "markdown",
      "source": [
        "Observamos las últimas"
      ],
      "metadata": {
        "id": "Ht0bC8AmsKzU"
      }
    },
    {
      "cell_type": "code",
      "source": [
        "df_1min.tail()"
      ],
      "metadata": {
        "colab": {
          "base_uri": "https://localhost:8080/",
          "height": 237
        },
        "id": "Q4t2YcuRrUtC",
        "outputId": "f4b293ee-8790-4b83-e02e-c3372d96cba7"
      },
      "execution_count": 50,
      "outputs": [
        {
          "output_type": "execute_result",
          "data": {
            "text/html": [
              "\n",
              "  <div id=\"df-3acafac4-752f-4dcb-b6c9-86bd369c706d\">\n",
              "    <div class=\"colab-df-container\">\n",
              "      <div>\n",
              "<style scoped>\n",
              "    .dataframe tbody tr th:only-of-type {\n",
              "        vertical-align: middle;\n",
              "    }\n",
              "\n",
              "    .dataframe tbody tr th {\n",
              "        vertical-align: top;\n",
              "    }\n",
              "\n",
              "    .dataframe thead th {\n",
              "        text-align: right;\n",
              "    }\n",
              "</style>\n",
              "<table border=\"1\" class=\"dataframe\">\n",
              "  <thead>\n",
              "    <tr style=\"text-align: right;\">\n",
              "      <th></th>\n",
              "      <th>open</th>\n",
              "      <th>high</th>\n",
              "      <th>low</th>\n",
              "      <th>close</th>\n",
              "      <th>volume</th>\n",
              "      <th>Cambio (%)</th>\n",
              "    </tr>\n",
              "    <tr>\n",
              "      <th>open_time</th>\n",
              "      <th></th>\n",
              "      <th></th>\n",
              "      <th></th>\n",
              "      <th></th>\n",
              "      <th></th>\n",
              "      <th></th>\n",
              "    </tr>\n",
              "  </thead>\n",
              "  <tbody>\n",
              "    <tr>\n",
              "      <th>2021-02-11 23:55:00</th>\n",
              "      <td>4.1495</td>\n",
              "      <td>4.1495</td>\n",
              "      <td>4.1495</td>\n",
              "      <td>4.1495</td>\n",
              "      <td>0.00</td>\n",
              "      <td>0.000000</td>\n",
              "    </tr>\n",
              "    <tr>\n",
              "      <th>2021-02-11 23:56:00</th>\n",
              "      <td>4.1495</td>\n",
              "      <td>4.1495</td>\n",
              "      <td>4.1495</td>\n",
              "      <td>4.1495</td>\n",
              "      <td>0.00</td>\n",
              "      <td>0.000000</td>\n",
              "    </tr>\n",
              "    <tr>\n",
              "      <th>2021-02-11 23:57:00</th>\n",
              "      <td>4.1495</td>\n",
              "      <td>4.1495</td>\n",
              "      <td>4.1495</td>\n",
              "      <td>4.1495</td>\n",
              "      <td>0.00</td>\n",
              "      <td>0.000000</td>\n",
              "    </tr>\n",
              "    <tr>\n",
              "      <th>2021-02-11 23:58:00</th>\n",
              "      <td>4.1495</td>\n",
              "      <td>4.1495</td>\n",
              "      <td>4.1495</td>\n",
              "      <td>4.1495</td>\n",
              "      <td>0.00</td>\n",
              "      <td>0.000000</td>\n",
              "    </tr>\n",
              "    <tr>\n",
              "      <th>2021-02-11 23:59:00</th>\n",
              "      <td>4.1775</td>\n",
              "      <td>4.1783</td>\n",
              "      <td>4.1650</td>\n",
              "      <td>4.1650</td>\n",
              "      <td>5.06</td>\n",
              "      <td>-0.299217</td>\n",
              "    </tr>\n",
              "  </tbody>\n",
              "</table>\n",
              "</div>\n",
              "      <button class=\"colab-df-convert\" onclick=\"convertToInteractive('df-3acafac4-752f-4dcb-b6c9-86bd369c706d')\"\n",
              "              title=\"Convert this dataframe to an interactive table.\"\n",
              "              style=\"display:none;\">\n",
              "        \n",
              "  <svg xmlns=\"http://www.w3.org/2000/svg\" height=\"24px\"viewBox=\"0 0 24 24\"\n",
              "       width=\"24px\">\n",
              "    <path d=\"M0 0h24v24H0V0z\" fill=\"none\"/>\n",
              "    <path d=\"M18.56 5.44l.94 2.06.94-2.06 2.06-.94-2.06-.94-.94-2.06-.94 2.06-2.06.94zm-11 1L8.5 8.5l.94-2.06 2.06-.94-2.06-.94L8.5 2.5l-.94 2.06-2.06.94zm10 10l.94 2.06.94-2.06 2.06-.94-2.06-.94-.94-2.06-.94 2.06-2.06.94z\"/><path d=\"M17.41 7.96l-1.37-1.37c-.4-.4-.92-.59-1.43-.59-.52 0-1.04.2-1.43.59L10.3 9.45l-7.72 7.72c-.78.78-.78 2.05 0 2.83L4 21.41c.39.39.9.59 1.41.59.51 0 1.02-.2 1.41-.59l7.78-7.78 2.81-2.81c.8-.78.8-2.07 0-2.86zM5.41 20L4 18.59l7.72-7.72 1.47 1.35L5.41 20z\"/>\n",
              "  </svg>\n",
              "      </button>\n",
              "      \n",
              "  <style>\n",
              "    .colab-df-container {\n",
              "      display:flex;\n",
              "      flex-wrap:wrap;\n",
              "      gap: 12px;\n",
              "    }\n",
              "\n",
              "    .colab-df-convert {\n",
              "      background-color: #E8F0FE;\n",
              "      border: none;\n",
              "      border-radius: 50%;\n",
              "      cursor: pointer;\n",
              "      display: none;\n",
              "      fill: #1967D2;\n",
              "      height: 32px;\n",
              "      padding: 0 0 0 0;\n",
              "      width: 32px;\n",
              "    }\n",
              "\n",
              "    .colab-df-convert:hover {\n",
              "      background-color: #E2EBFA;\n",
              "      box-shadow: 0px 1px 2px rgba(60, 64, 67, 0.3), 0px 1px 3px 1px rgba(60, 64, 67, 0.15);\n",
              "      fill: #174EA6;\n",
              "    }\n",
              "\n",
              "    [theme=dark] .colab-df-convert {\n",
              "      background-color: #3B4455;\n",
              "      fill: #D2E3FC;\n",
              "    }\n",
              "\n",
              "    [theme=dark] .colab-df-convert:hover {\n",
              "      background-color: #434B5C;\n",
              "      box-shadow: 0px 1px 3px 1px rgba(0, 0, 0, 0.15);\n",
              "      filter: drop-shadow(0px 1px 2px rgba(0, 0, 0, 0.3));\n",
              "      fill: #FFFFFF;\n",
              "    }\n",
              "  </style>\n",
              "\n",
              "      <script>\n",
              "        const buttonEl =\n",
              "          document.querySelector('#df-3acafac4-752f-4dcb-b6c9-86bd369c706d button.colab-df-convert');\n",
              "        buttonEl.style.display =\n",
              "          google.colab.kernel.accessAllowed ? 'block' : 'none';\n",
              "\n",
              "        async function convertToInteractive(key) {\n",
              "          const element = document.querySelector('#df-3acafac4-752f-4dcb-b6c9-86bd369c706d');\n",
              "          const dataTable =\n",
              "            await google.colab.kernel.invokeFunction('convertToInteractive',\n",
              "                                                     [key], {});\n",
              "          if (!dataTable) return;\n",
              "\n",
              "          const docLinkHtml = 'Like what you see? Visit the ' +\n",
              "            '<a target=\"_blank\" href=https://colab.research.google.com/notebooks/data_table.ipynb>data table notebook</a>'\n",
              "            + ' to learn more about interactive tables.';\n",
              "          element.innerHTML = '';\n",
              "          dataTable['output_type'] = 'display_data';\n",
              "          await google.colab.output.renderOutput(dataTable, element);\n",
              "          const docLink = document.createElement('div');\n",
              "          docLink.innerHTML = docLinkHtml;\n",
              "          element.appendChild(docLink);\n",
              "        }\n",
              "      </script>\n",
              "    </div>\n",
              "  </div>\n",
              "  "
            ],
            "text/plain": [
              "                       open    high     low   close  volume  Cambio (%)\n",
              "open_time                                                              \n",
              "2021-02-11 23:55:00  4.1495  4.1495  4.1495  4.1495    0.00    0.000000\n",
              "2021-02-11 23:56:00  4.1495  4.1495  4.1495  4.1495    0.00    0.000000\n",
              "2021-02-11 23:57:00  4.1495  4.1495  4.1495  4.1495    0.00    0.000000\n",
              "2021-02-11 23:58:00  4.1495  4.1495  4.1495  4.1495    0.00    0.000000\n",
              "2021-02-11 23:59:00  4.1775  4.1783  4.1650  4.1650    5.06   -0.299217"
            ]
          },
          "metadata": {},
          "execution_count": 50
        }
      ]
    },
    {
      "cell_type": "markdown",
      "source": [
        "## POR GRUPO EN VERSION DE UN (1) Minuto"
      ],
      "metadata": {
        "id": "R7mL1VxzsPeN"
      }
    },
    {
      "cell_type": "code",
      "source": [
        "df_1min = aplicar_cambio(group_df(df, freq='1min'))\n",
        "cambios_graficos(\n",
        "    df_1min.tail(LOS_ULTIMOS)\n",
        ")\n",
        "df_1min.tail()"
      ],
      "metadata": {
        "colab": {
          "base_uri": "https://localhost:8080/",
          "height": 772
        },
        "id": "k1K6GHlQrdyb",
        "outputId": "b92b8f86-a063-4e8d-90fa-4737412a9422"
      },
      "execution_count": 52,
      "outputs": [
        {
          "output_type": "execute_result",
          "data": {
            "text/html": [
              "\n",
              "  <div id=\"df-1ae17d6e-5d36-46b2-8bd8-125488df6ea3\">\n",
              "    <div class=\"colab-df-container\">\n",
              "      <div>\n",
              "<style scoped>\n",
              "    .dataframe tbody tr th:only-of-type {\n",
              "        vertical-align: middle;\n",
              "    }\n",
              "\n",
              "    .dataframe tbody tr th {\n",
              "        vertical-align: top;\n",
              "    }\n",
              "\n",
              "    .dataframe thead th {\n",
              "        text-align: right;\n",
              "    }\n",
              "</style>\n",
              "<table border=\"1\" class=\"dataframe\">\n",
              "  <thead>\n",
              "    <tr style=\"text-align: right;\">\n",
              "      <th></th>\n",
              "      <th>open</th>\n",
              "      <th>high</th>\n",
              "      <th>low</th>\n",
              "      <th>close</th>\n",
              "      <th>volume</th>\n",
              "      <th>Cambio (%)</th>\n",
              "    </tr>\n",
              "    <tr>\n",
              "      <th>open_time</th>\n",
              "      <th></th>\n",
              "      <th></th>\n",
              "      <th></th>\n",
              "      <th></th>\n",
              "      <th></th>\n",
              "      <th></th>\n",
              "    </tr>\n",
              "  </thead>\n",
              "  <tbody>\n",
              "    <tr>\n",
              "      <th>2021-02-11 23:55:00</th>\n",
              "      <td>4.1495</td>\n",
              "      <td>4.1495</td>\n",
              "      <td>4.1495</td>\n",
              "      <td>4.1495</td>\n",
              "      <td>0.00</td>\n",
              "      <td>0.000000</td>\n",
              "    </tr>\n",
              "    <tr>\n",
              "      <th>2021-02-11 23:56:00</th>\n",
              "      <td>4.1495</td>\n",
              "      <td>4.1495</td>\n",
              "      <td>4.1495</td>\n",
              "      <td>4.1495</td>\n",
              "      <td>0.00</td>\n",
              "      <td>0.000000</td>\n",
              "    </tr>\n",
              "    <tr>\n",
              "      <th>2021-02-11 23:57:00</th>\n",
              "      <td>4.1495</td>\n",
              "      <td>4.1495</td>\n",
              "      <td>4.1495</td>\n",
              "      <td>4.1495</td>\n",
              "      <td>0.00</td>\n",
              "      <td>0.000000</td>\n",
              "    </tr>\n",
              "    <tr>\n",
              "      <th>2021-02-11 23:58:00</th>\n",
              "      <td>4.1495</td>\n",
              "      <td>4.1495</td>\n",
              "      <td>4.1495</td>\n",
              "      <td>4.1495</td>\n",
              "      <td>0.00</td>\n",
              "      <td>0.000000</td>\n",
              "    </tr>\n",
              "    <tr>\n",
              "      <th>2021-02-11 23:59:00</th>\n",
              "      <td>4.1775</td>\n",
              "      <td>4.1783</td>\n",
              "      <td>4.1650</td>\n",
              "      <td>4.1650</td>\n",
              "      <td>5.06</td>\n",
              "      <td>-0.299217</td>\n",
              "    </tr>\n",
              "  </tbody>\n",
              "</table>\n",
              "</div>\n",
              "      <button class=\"colab-df-convert\" onclick=\"convertToInteractive('df-1ae17d6e-5d36-46b2-8bd8-125488df6ea3')\"\n",
              "              title=\"Convert this dataframe to an interactive table.\"\n",
              "              style=\"display:none;\">\n",
              "        \n",
              "  <svg xmlns=\"http://www.w3.org/2000/svg\" height=\"24px\"viewBox=\"0 0 24 24\"\n",
              "       width=\"24px\">\n",
              "    <path d=\"M0 0h24v24H0V0z\" fill=\"none\"/>\n",
              "    <path d=\"M18.56 5.44l.94 2.06.94-2.06 2.06-.94-2.06-.94-.94-2.06-.94 2.06-2.06.94zm-11 1L8.5 8.5l.94-2.06 2.06-.94-2.06-.94L8.5 2.5l-.94 2.06-2.06.94zm10 10l.94 2.06.94-2.06 2.06-.94-2.06-.94-.94-2.06-.94 2.06-2.06.94z\"/><path d=\"M17.41 7.96l-1.37-1.37c-.4-.4-.92-.59-1.43-.59-.52 0-1.04.2-1.43.59L10.3 9.45l-7.72 7.72c-.78.78-.78 2.05 0 2.83L4 21.41c.39.39.9.59 1.41.59.51 0 1.02-.2 1.41-.59l7.78-7.78 2.81-2.81c.8-.78.8-2.07 0-2.86zM5.41 20L4 18.59l7.72-7.72 1.47 1.35L5.41 20z\"/>\n",
              "  </svg>\n",
              "      </button>\n",
              "      \n",
              "  <style>\n",
              "    .colab-df-container {\n",
              "      display:flex;\n",
              "      flex-wrap:wrap;\n",
              "      gap: 12px;\n",
              "    }\n",
              "\n",
              "    .colab-df-convert {\n",
              "      background-color: #E8F0FE;\n",
              "      border: none;\n",
              "      border-radius: 50%;\n",
              "      cursor: pointer;\n",
              "      display: none;\n",
              "      fill: #1967D2;\n",
              "      height: 32px;\n",
              "      padding: 0 0 0 0;\n",
              "      width: 32px;\n",
              "    }\n",
              "\n",
              "    .colab-df-convert:hover {\n",
              "      background-color: #E2EBFA;\n",
              "      box-shadow: 0px 1px 2px rgba(60, 64, 67, 0.3), 0px 1px 3px 1px rgba(60, 64, 67, 0.15);\n",
              "      fill: #174EA6;\n",
              "    }\n",
              "\n",
              "    [theme=dark] .colab-df-convert {\n",
              "      background-color: #3B4455;\n",
              "      fill: #D2E3FC;\n",
              "    }\n",
              "\n",
              "    [theme=dark] .colab-df-convert:hover {\n",
              "      background-color: #434B5C;\n",
              "      box-shadow: 0px 1px 3px 1px rgba(0, 0, 0, 0.15);\n",
              "      filter: drop-shadow(0px 1px 2px rgba(0, 0, 0, 0.3));\n",
              "      fill: #FFFFFF;\n",
              "    }\n",
              "  </style>\n",
              "\n",
              "      <script>\n",
              "        const buttonEl =\n",
              "          document.querySelector('#df-1ae17d6e-5d36-46b2-8bd8-125488df6ea3 button.colab-df-convert');\n",
              "        buttonEl.style.display =\n",
              "          google.colab.kernel.accessAllowed ? 'block' : 'none';\n",
              "\n",
              "        async function convertToInteractive(key) {\n",
              "          const element = document.querySelector('#df-1ae17d6e-5d36-46b2-8bd8-125488df6ea3');\n",
              "          const dataTable =\n",
              "            await google.colab.kernel.invokeFunction('convertToInteractive',\n",
              "                                                     [key], {});\n",
              "          if (!dataTable) return;\n",
              "\n",
              "          const docLinkHtml = 'Like what you see? Visit the ' +\n",
              "            '<a target=\"_blank\" href=https://colab.research.google.com/notebooks/data_table.ipynb>data table notebook</a>'\n",
              "            + ' to learn more about interactive tables.';\n",
              "          element.innerHTML = '';\n",
              "          dataTable['output_type'] = 'display_data';\n",
              "          await google.colab.output.renderOutput(dataTable, element);\n",
              "          const docLink = document.createElement('div');\n",
              "          docLink.innerHTML = docLinkHtml;\n",
              "          element.appendChild(docLink);\n",
              "        }\n",
              "      </script>\n",
              "    </div>\n",
              "  </div>\n",
              "  "
            ],
            "text/plain": [
              "                       open    high     low   close  volume  Cambio (%)\n",
              "open_time                                                              \n",
              "2021-02-11 23:55:00  4.1495  4.1495  4.1495  4.1495    0.00    0.000000\n",
              "2021-02-11 23:56:00  4.1495  4.1495  4.1495  4.1495    0.00    0.000000\n",
              "2021-02-11 23:57:00  4.1495  4.1495  4.1495  4.1495    0.00    0.000000\n",
              "2021-02-11 23:58:00  4.1495  4.1495  4.1495  4.1495    0.00    0.000000\n",
              "2021-02-11 23:59:00  4.1775  4.1783  4.1650  4.1650    5.06   -0.299217"
            ]
          },
          "metadata": {},
          "execution_count": 52
        },
        {
          "output_type": "display_data",
          "data": {
            "image/png": "[encoded data removed]",
            "text/plain": [
              "<Figure size 842.4x595.44 with 1 Axes>"
            ]
          },
          "metadata": {}
        }
      ]
    },
    {
      "cell_type": "markdown",
      "source": [
        "Ahora lo haremos para una ventana de 6 horas. Esto es:"
      ],
      "metadata": {
        "id": "xwvViKe8s2Aq"
      }
    },
    {
      "cell_type": "code",
      "source": [
        "df_1min = aplicar_cambio(group_df(df, freq='6h'))\n",
        "cambios_graficos(\n",
        "    df_1min.tail(LOS_ULTIMOS)\n",
        ")\n",
        "df_1min.tail()"
      ],
      "metadata": {
        "colab": {
          "base_uri": "https://localhost:8080/",
          "height": 779
        },
        "id": "SUmqaYEare0C",
        "outputId": "81ea8359-405f-453d-cda4-51da2cac04c9"
      },
      "execution_count": 53,
      "outputs": [
        {
          "output_type": "execute_result",
          "data": {
            "text/html": [
              "\n",
              "  <div id=\"df-44d6d39c-cf4a-4c9b-b817-1731ba734c0e\">\n",
              "    <div class=\"colab-df-container\">\n",
              "      <div>\n",
              "<style scoped>\n",
              "    .dataframe tbody tr th:only-of-type {\n",
              "        vertical-align: middle;\n",
              "    }\n",
              "\n",
              "    .dataframe tbody tr th {\n",
              "        vertical-align: top;\n",
              "    }\n",
              "\n",
              "    .dataframe thead th {\n",
              "        text-align: right;\n",
              "    }\n",
              "</style>\n",
              "<table border=\"1\" class=\"dataframe\">\n",
              "  <thead>\n",
              "    <tr style=\"text-align: right;\">\n",
              "      <th></th>\n",
              "      <th>open</th>\n",
              "      <th>high</th>\n",
              "      <th>low</th>\n",
              "      <th>close</th>\n",
              "      <th>volume</th>\n",
              "      <th>Cambio (%)</th>\n",
              "    </tr>\n",
              "    <tr>\n",
              "      <th>open_time</th>\n",
              "      <th></th>\n",
              "      <th></th>\n",
              "      <th></th>\n",
              "      <th></th>\n",
              "      <th></th>\n",
              "      <th></th>\n",
              "    </tr>\n",
              "  </thead>\n",
              "  <tbody>\n",
              "    <tr>\n",
              "      <th>2021-02-10 18:00:00</th>\n",
              "      <td>3.9382</td>\n",
              "      <td>4.3627</td>\n",
              "      <td>3.8767</td>\n",
              "      <td>4.0806</td>\n",
              "      <td>745.039978</td>\n",
              "      <td>3.615860</td>\n",
              "    </tr>\n",
              "    <tr>\n",
              "      <th>2021-02-11 00:00:00</th>\n",
              "      <td>4.0806</td>\n",
              "      <td>4.2259</td>\n",
              "      <td>4.0013</td>\n",
              "      <td>4.0453</td>\n",
              "      <td>286.510010</td>\n",
              "      <td>-0.865063</td>\n",
              "    </tr>\n",
              "    <tr>\n",
              "      <th>2021-02-11 06:00:00</th>\n",
              "      <td>4.0951</td>\n",
              "      <td>4.5315</td>\n",
              "      <td>4.0525</td>\n",
              "      <td>4.4400</td>\n",
              "      <td>879.820007</td>\n",
              "      <td>8.422264</td>\n",
              "    </tr>\n",
              "    <tr>\n",
              "      <th>2021-02-11 12:00:00</th>\n",
              "      <td>4.4400</td>\n",
              "      <td>4.5200</td>\n",
              "      <td>4.0439</td>\n",
              "      <td>4.2817</td>\n",
              "      <td>1257.559937</td>\n",
              "      <td>-3.565314</td>\n",
              "    </tr>\n",
              "    <tr>\n",
              "      <th>2021-02-11 18:00:00</th>\n",
              "      <td>4.2817</td>\n",
              "      <td>4.3307</td>\n",
              "      <td>4.1065</td>\n",
              "      <td>4.1650</td>\n",
              "      <td>716.799988</td>\n",
              "      <td>-2.725557</td>\n",
              "    </tr>\n",
              "  </tbody>\n",
              "</table>\n",
              "</div>\n",
              "      <button class=\"colab-df-convert\" onclick=\"convertToInteractive('df-44d6d39c-cf4a-4c9b-b817-1731ba734c0e')\"\n",
              "              title=\"Convert this dataframe to an interactive table.\"\n",
              "              style=\"display:none;\">\n",
              "        \n",
              "  <svg xmlns=\"http://www.w3.org/2000/svg\" height=\"24px\"viewBox=\"0 0 24 24\"\n",
              "       width=\"24px\">\n",
              "    <path d=\"M0 0h24v24H0V0z\" fill=\"none\"/>\n",
              "    <path d=\"M18.56 5.44l.94 2.06.94-2.06 2.06-.94-2.06-.94-.94-2.06-.94 2.06-2.06.94zm-11 1L8.5 8.5l.94-2.06 2.06-.94-2.06-.94L8.5 2.5l-.94 2.06-2.06.94zm10 10l.94 2.06.94-2.06 2.06-.94-2.06-.94-.94-2.06-.94 2.06-2.06.94z\"/><path d=\"M17.41 7.96l-1.37-1.37c-.4-.4-.92-.59-1.43-.59-.52 0-1.04.2-1.43.59L10.3 9.45l-7.72 7.72c-.78.78-.78 2.05 0 2.83L4 21.41c.39.39.9.59 1.41.59.51 0 1.02-.2 1.41-.59l7.78-7.78 2.81-2.81c.8-.78.8-2.07 0-2.86zM5.41 20L4 18.59l7.72-7.72 1.47 1.35L5.41 20z\"/>\n",
              "  </svg>\n",
              "      </button>\n",
              "      \n",
              "  <style>\n",
              "    .colab-df-container {\n",
              "      display:flex;\n",
              "      flex-wrap:wrap;\n",
              "      gap: 12px;\n",
              "    }\n",
              "\n",
              "    .colab-df-convert {\n",
              "      background-color: #E8F0FE;\n",
              "      border: none;\n",
              "      border-radius: 50%;\n",
              "      cursor: pointer;\n",
              "      display: none;\n",
              "      fill: #1967D2;\n",
              "      height: 32px;\n",
              "      padding: 0 0 0 0;\n",
              "      width: 32px;\n",
              "    }\n",
              "\n",
              "    .colab-df-convert:hover {\n",
              "      background-color: #E2EBFA;\n",
              "      box-shadow: 0px 1px 2px rgba(60, 64, 67, 0.3), 0px 1px 3px 1px rgba(60, 64, 67, 0.15);\n",
              "      fill: #174EA6;\n",
              "    }\n",
              "\n",
              "    [theme=dark] .colab-df-convert {\n",
              "      background-color: #3B4455;\n",
              "      fill: #D2E3FC;\n",
              "    }\n",
              "\n",
              "    [theme=dark] .colab-df-convert:hover {\n",
              "      background-color: #434B5C;\n",
              "      box-shadow: 0px 1px 3px 1px rgba(0, 0, 0, 0.15);\n",
              "      filter: drop-shadow(0px 1px 2px rgba(0, 0, 0, 0.3));\n",
              "      fill: #FFFFFF;\n",
              "    }\n",
              "  </style>\n",
              "\n",
              "      <script>\n",
              "        const buttonEl =\n",
              "          document.querySelector('#df-44d6d39c-cf4a-4c9b-b817-1731ba734c0e button.colab-df-convert');\n",
              "        buttonEl.style.display =\n",
              "          google.colab.kernel.accessAllowed ? 'block' : 'none';\n",
              "\n",
              "        async function convertToInteractive(key) {\n",
              "          const element = document.querySelector('#df-44d6d39c-cf4a-4c9b-b817-1731ba734c0e');\n",
              "          const dataTable =\n",
              "            await google.colab.kernel.invokeFunction('convertToInteractive',\n",
              "                                                     [key], {});\n",
              "          if (!dataTable) return;\n",
              "\n",
              "          const docLinkHtml = 'Like what you see? Visit the ' +\n",
              "            '<a target=\"_blank\" href=https://colab.research.google.com/notebooks/data_table.ipynb>data table notebook</a>'\n",
              "            + ' to learn more about interactive tables.';\n",
              "          element.innerHTML = '';\n",
              "          dataTable['output_type'] = 'display_data';\n",
              "          await google.colab.output.renderOutput(dataTable, element);\n",
              "          const docLink = document.createElement('div');\n",
              "          docLink.innerHTML = docLinkHtml;\n",
              "          element.appendChild(docLink);\n",
              "        }\n",
              "      </script>\n",
              "    </div>\n",
              "  </div>\n",
              "  "
            ],
            "text/plain": [
              "                       open    high     low   close       volume  Cambio (%)\n",
              "open_time                                                                   \n",
              "2021-02-10 18:00:00  3.9382  4.3627  3.8767  4.0806   745.039978    3.615860\n",
              "2021-02-11 00:00:00  4.0806  4.2259  4.0013  4.0453   286.510010   -0.865063\n",
              "2021-02-11 06:00:00  4.0951  4.5315  4.0525  4.4400   879.820007    8.422264\n",
              "2021-02-11 12:00:00  4.4400  4.5200  4.0439  4.2817  1257.559937   -3.565314\n",
              "2021-02-11 18:00:00  4.2817  4.3307  4.1065  4.1650   716.799988   -2.725557"
            ]
          },
          "metadata": {},
          "execution_count": 53
        },
        {
          "output_type": "display_data",
          "data": {
            "image/png": "[encoded data removed]",
            "text/plain": [
              "<Figure size 842.4x595.44 with 1 Axes>"
            ]
          },
          "metadata": {}
        }
      ]
    },
    {
      "cell_type": "markdown",
      "source": [
        "Los cambios puede hacerlos hasta por grupos ya sea por minutos o por horas, solo debe tener presente el formato"
      ],
      "metadata": {
        "id": "yb0dv1b9tEk_"
      }
    },
    {
      "cell_type": "markdown",
      "source": [
        "# Agradecimientos\n",
        "\n",
        "Al equipo de **Kribe en Datos**. Los datos y algunos códigos fueron obtenidos en [Kaggle](https://www.kaggle.com/) "
      ],
      "metadata": {
        "id": "Gq6MXGIhlNgW"
      }
    }
  ]
}